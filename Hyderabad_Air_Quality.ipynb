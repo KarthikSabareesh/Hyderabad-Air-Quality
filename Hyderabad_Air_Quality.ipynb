{
  "cells": [
    {
      "attachments": {},
      "cell_type": "markdown",
      "metadata": {
        "id": "m4O8VY1oVITt"
      },
      "source": [
        "# Air Quality Prediction in Hyderabad in COVID affected times (1st October 2019 to 30th April 2020)"
      ]
    },
    {
      "attachments": {},
      "cell_type": "markdown",
      "metadata": {
        "id": "7KOD0ZNMVwa9"
      },
      "source": [
        "## We'll be using multiple weather and air quality related features to try and predict the impact that certain factors can have on air quality and try to build a model which can predict air quality for a given set of such factors.\n",
        "\n",
        "## We'll be using PM2.5 as the air quality metric and target variable"
      ]
    },
    {
      "attachments": {},
      "cell_type": "markdown",
      "metadata": {
        "id": "RZg87VOuWGo8"
      },
      "source": [
        "# By : Karthik Sabareesh\n",
        "\n",
        "\n",
        "## Github: https://github.com/KarthikSabareesh"
      ]
    },
    {
      "cell_type": "code",
      "execution_count": 151,
      "metadata": {
        "id": "H3tobPHmVIzv"
      },
      "outputs": [],
      "source": [
        "import pandas as pd\n",
        "import numpy as np\n",
        "from sklearn.model_selection import train_test_split\n",
        "from sklearn.ensemble import RandomForestRegressor\n",
        "from xgboost import XGBRegressor\n",
        "from sklearn.impute import SimpleImputer,KNNImputer\n",
        "from sklearn.preprocessing import OrdinalEncoder,OneHotEncoder,StandardScaler\n",
        "from sklearn.compose import ColumnTransformer\n",
        "from sklearn.pipeline import Pipeline\n",
        "import matplotlib.pyplot as plt\n",
        "import seaborn as sb"
      ]
    },
    {
      "attachments": {},
      "cell_type": "markdown",
      "metadata": {
        "id": "--L_k2SNWab8"
      },
      "source": [
        "## Importing dataset"
      ]
    },
    {
      "cell_type": "code",
      "execution_count": 113,
      "metadata": {
        "colab": {
          "base_uri": "https://localhost:8080/"
        },
        "id": "io5Xr9mb083n",
        "outputId": "019eef66-735d-4547-e866-5bf97962f45c"
      },
      "outputs": [
        {
          "name": "stdout",
          "output_type": "stream",
          "text": [
            "          Date  Humidity  Wind Speed  Dew Point  Temperature  Pressure  \\\n",
            "0   01-10-2019      83.0         4.5       76.0         81.9      28.1   \n",
            "1   02-10-2019      81.6         4.6       77.4         83.8      28.1   \n",
            "2   03-10-2019      82.0         3.7       75.3         81.7      28.1   \n",
            "3   04-10-2019      85.4         2.7       73.9         78.6      28.1   \n",
            "4   05-10-2019      87.4         3.5       75.3         79.4      28.1   \n",
            "5   06-10-2019      86.3         2.5       73.3         77.9      28.1   \n",
            "6   07-10-2019      82.9         2.4       76.0         81.6      28.1   \n",
            "7   08-10-2019      86.2         3.1       76.3         80.8      28.0   \n",
            "8   09-10-2019      88.7         1.7       74.5         78.1      28.0   \n",
            "9   10-10-2019      85.6         3.4       72.9         77.3      28.1   \n",
            "10  11-10-2019      83.4         3.2       73.3         78.6      28.1   \n",
            "11  12-10-2019      84.3         2.2       76.4         82.0      28.1   \n",
            "12  13-10-2019      85.2         2.3       76.3         81.4      28.1   \n",
            "13  14-10-2019      81.0         4.7       76.9         83.4      28.1   \n",
            "14  15-10-2019      81.9         8.8       76.0         82.3      28.1   \n",
            "15  16-10-2019      92.9         3.9       73.2         75.5      28.1   \n",
            "16  17-10-2019      84.6         5.1       73.9         78.8      28.1   \n",
            "17  18-10-2019      86.1         5.6       75.2         79.8      28.1   \n",
            "18  19-10-2019      89.9         5.1       75.7         79.2      28.1   \n",
            "19  20-10-2019      91.5         3.1       75.5         78.3      28.1   \n",
            "\n",
            "    Festival  Lockdown  Covid-Case  PM2.5  \n",
            "0          0         0           0     84  \n",
            "1          0         0           0     83  \n",
            "2          0         0           0     81  \n",
            "3          0         0           0     94  \n",
            "4          0         0           0    112  \n",
            "5          4         0           0     97  \n",
            "6          0         0           0    126  \n",
            "7          3         0           0    125  \n",
            "8          0         0           0    132  \n",
            "9          0         0           0    138  \n",
            "10         0         0           0     92  \n",
            "11         0         0           0     91  \n",
            "12         3         0           0     86  \n",
            "13         0         0           0     78  \n",
            "14         0         0           0    110  \n",
            "15         0         0           0    121  \n",
            "16         0         0           0    123  \n",
            "17         0         0           0    104  \n",
            "18         0         0           0     60  \n",
            "19         0         0           0     59  \n"
          ]
        }
      ],
      "source": [
        "df=pd.read_csv(\"/content/Hyderabad-AirQ.csv\")\n",
        "print(df.head(20))"
      ]
    },
    {
      "cell_type": "code",
      "execution_count": 114,
      "metadata": {
        "colab": {
          "base_uri": "https://localhost:8080/"
        },
        "id": "ULtn5Yx23_K5",
        "outputId": "ff407e96-178a-4f40-81fc-eadaa9ded82c"
      },
      "outputs": [
        {
          "name": "stdout",
          "output_type": "stream",
          "text": [
            "<class 'pandas.core.frame.DataFrame'>\n",
            "RangeIndex: 153 entries, 0 to 152\n",
            "Data columns (total 10 columns):\n",
            " #   Column       Non-Null Count  Dtype  \n",
            "---  ------       --------------  -----  \n",
            " 0   Date         153 non-null    object \n",
            " 1   Humidity     153 non-null    float64\n",
            " 2   Wind Speed   153 non-null    float64\n",
            " 3   Dew Point    153 non-null    float64\n",
            " 4   Temperature  153 non-null    float64\n",
            " 5   Pressure     153 non-null    float64\n",
            " 6   Festival     153 non-null    int64  \n",
            " 7   Lockdown     153 non-null    int64  \n",
            " 8   Covid-Case   153 non-null    int64  \n",
            " 9   PM2.5        153 non-null    int64  \n",
            "dtypes: float64(5), int64(4), object(1)\n",
            "memory usage: 12.1+ KB\n"
          ]
        }
      ],
      "source": [
        "df.info()"
      ]
    },
    {
      "attachments": {},
      "cell_type": "markdown",
      "metadata": {
        "id": "BN5Zt4-U7dTm"
      },
      "source": [
        "### No null values found"
      ]
    },
    {
      "attachments": {},
      "cell_type": "markdown",
      "metadata": {
        "id": "RuZF1TO66lAa"
      },
      "source": [
        "## Here, date is a string object, which acts moreso as an index than anything. It's easier to remove date from this dataset and use numeric a day count attribute for our calculations, after establishing a baseline date '01-10-2019' as Day 0."
      ]
    },
    {
      "cell_type": "code",
      "execution_count": 115,
      "metadata": {
        "id": "rYzium_N6GjB"
      },
      "outputs": [],
      "source": [
        "df[\"Days\"]=np.arange(0,153)"
      ]
    },
    {
      "attachments": {},
      "cell_type": "markdown",
      "metadata": {
        "id": "6JytGpxD48Be"
      },
      "source": [
        "## Train Test Split"
      ]
    },
    {
      "cell_type": "code",
      "execution_count": 116,
      "metadata": {
        "colab": {
          "base_uri": "https://localhost:8080/"
        },
        "id": "jflVrbOJ46UH",
        "outputId": "66410031-f3d9-4900-e9d7-36a148a46112"
      },
      "outputs": [
        {
          "name": "stdout",
          "output_type": "stream",
          "text": [
            "<class 'pandas.core.frame.DataFrame'>\n",
            "Int64Index: 107 entries, 73 to 47\n",
            "Data columns (total 9 columns):\n",
            " #   Column       Non-Null Count  Dtype  \n",
            "---  ------       --------------  -----  \n",
            " 0   Humidity     107 non-null    float64\n",
            " 1   Wind Speed   107 non-null    float64\n",
            " 2   Dew Point    107 non-null    float64\n",
            " 3   Temperature  107 non-null    float64\n",
            " 4   Pressure     107 non-null    float64\n",
            " 5   Festival     107 non-null    int64  \n",
            " 6   Lockdown     107 non-null    int64  \n",
            " 7   Covid-Case   107 non-null    int64  \n",
            " 8   Days         107 non-null    int64  \n",
            "dtypes: float64(5), int64(4)\n",
            "memory usage: 8.4 KB\n",
            "None\n"
          ]
        }
      ],
      "source": [
        "df.drop(\"Date\",axis=1,inplace=True)\n",
        "y=df[\"PM2.5\"]\n",
        "X=df.drop(\"PM2.5\",axis=1)\n",
        "\n",
        "X_train_full,X_test_full,y_train,y_test=train_test_split(X,y,train_size=0.7,random_state=0)\n",
        "\n",
        "print(X_train_full.info())"
      ]
    },
    {
      "cell_type": "code",
      "execution_count": 117,
      "metadata": {
        "colab": {
          "base_uri": "https://localhost:8080/"
        },
        "id": "lOpMtyD_AX22",
        "outputId": "b2ad5de4-01b2-42d9-df51-f37ed6277189"
      },
      "outputs": [
        {
          "data": {
            "text/plain": [
              "Humidity       0.120892\n",
              "Wind Speed    -0.250983\n",
              "Dew Point     -0.444527\n",
              "Temperature   -0.548953\n",
              "Pressure       0.415978\n",
              "Festival       0.120983\n",
              "Lockdown      -0.382253\n",
              "Covid-Case    -0.386669\n",
              "PM2.5          1.000000\n",
              "Days          -0.196542\n",
              "Name: PM2.5, dtype: float64"
            ]
          },
          "execution_count": 117,
          "metadata": {},
          "output_type": "execute_result"
        }
      ],
      "source": [
        "df.corr()[\"PM2.5\"]"
      ]
    },
    {
      "attachments": {},
      "cell_type": "markdown",
      "metadata": {
        "id": "Z4bw7C6sW2q0"
      },
      "source": [
        "### We can see strong linear correlation between the target and features like temperature,Covid-Case,Pressure,Lockdown,Dew Point,etc."
      ]
    },
    {
      "attachments": {},
      "cell_type": "markdown",
      "metadata": {
        "id": "jSf8-KSf7jl7"
      },
      "source": [
        "## Let's run some models in current dataset to establish a baseline and get an idea of how the current dataset works as it is right now"
      ]
    },
    {
      "cell_type": "code",
      "execution_count": 118,
      "metadata": {
        "colab": {
          "base_uri": "https://localhost:8080/"
        },
        "id": "N6s9_Kba7fm_",
        "outputId": "9cdceceb-bcbe-453c-a8b4-56486766fd78"
      },
      "outputs": [
        {
          "name": "stdout",
          "output_type": "stream",
          "text": [
            "[ 78.366  87.22  148.042  94.694  82.29   90.218 144.87   92.92   97.36\n",
            " 150.416 152.39  111.572 150.052  84.458  90.55  145.576  86.732  98.936\n",
            " 153.414 105.35  147.056 107.442 105.144 151.742 127.754  98.11   99.22\n",
            " 152.32  146.156 153.112  92.054  99.894  93.514 109.846  75.652 156.132\n",
            " 107.114  87.01   85.746  76.026  72.966 148.42   95.486 152.124  91.114\n",
            "  80.184]\n",
            "0.7147788201860874\n"
          ]
        }
      ],
      "source": [
        "model1=RandomForestRegressor(n_estimators=500,random_state=0)\n",
        "\n",
        "model1.fit(X_train_full,y_train)\n",
        "\n",
        "pred1=model1.predict(X_test_full)\n",
        "\n",
        "print(pred1)\n",
        "\n",
        "from sklearn.metrics import r2_score\n",
        "\n",
        "r2_1=r2_score(y_test, pred1)\n",
        "print(r2_1)"
      ]
    },
    {
      "cell_type": "code",
      "execution_count": 119,
      "metadata": {
        "colab": {
          "base_uri": "https://localhost:8080/"
        },
        "id": "x_-B5qA98SYJ",
        "outputId": "598d03c1-0da9-49c0-9fe9-726880d45e24"
      },
      "outputs": [
        {
          "name": "stdout",
          "output_type": "stream",
          "text": [
            "[ 75.337036  84.73281  147.75012   88.06462   80.91715   86.88756\n",
            " 133.05147   88.35396   95.7978   149.84828  151.0241   117.21659\n",
            " 161.37648   86.20689   88.67725  141.0428    76.32165  100.983116\n",
            " 151.21692  100.35346  152.6691   111.116936 104.05986  144.25941\n",
            " 129.12775  107.666855  95.038536 148.40051  120.097374 162.51823\n",
            "  95.664444 105.67151   89.67801  114.839745  88.313095 151.62723\n",
            " 112.70196   86.92953   83.528694  62.2439    61.29571  143.88844\n",
            "  83.57996  152.0048    79.258354  76.39961 ]\n",
            "0.6948374109994158\n"
          ]
        }
      ],
      "source": [
        "model2=XGBRegressor(n_estimators=500,learning_rate=0.05,random_state=0)\n",
        "\n",
        "model2.fit(X_train_full,y_train)\n",
        "\n",
        "pred2=model2.predict(X_test_full)\n",
        "\n",
        "print(pred2)\n",
        "\n",
        "from sklearn.metrics import r2_score,mean_squared_error\n",
        "\n",
        "r2_2=r2_score(y_test, pred2)\n",
        "print(r2_2)\n"
      ]
    },
    {
      "cell_type": "code",
      "execution_count": 120,
      "metadata": {
        "colab": {
          "base_uri": "https://localhost:8080/"
        },
        "id": "hPHfSHLI9Kn3",
        "outputId": "409b061f-ba27-4c04-b866-625243efde44"
      },
      "outputs": [
        {
          "name": "stdout",
          "output_type": "stream",
          "text": [
            "[ 89.71185784  92.76564905 152.37913668  93.07520765  96.98381173\n",
            "  91.06473685 154.73361527  90.83243689  97.16371144 152.27911302\n",
            " 147.88376064 129.42097582 148.17183264  89.20741425  91.30465536\n",
            " 140.88767777  89.45202633  96.37596899 151.8916705   90.66083049\n",
            " 158.45789299  89.92777372  99.02297711 149.86140087 139.11084035\n",
            " 117.04702187  92.76564905 153.71288475 143.8345922  154.01938545\n",
            "  84.32848942  92.01845374  91.11996881 117.55630588  90.60603676\n",
            " 154.52278443 117.51915086  90.66083049  82.64246143  86.61853787\n",
            "  85.99506066 155.09491274  84.32848942 156.69660484  86.84304188\n",
            "  83.68190757]\n",
            "0.6968051513290602\n"
          ]
        }
      ],
      "source": [
        "from lightgbm import LGBMRegressor\n",
        "\n",
        "model3=LGBMRegressor(n_estimators=700,learning_rate=0.01)\n",
        "\n",
        "model3.fit(X_train_full,y_train)\n",
        "\n",
        "pred3=model3.predict(X_test_full)\n",
        "\n",
        "print(pred3)\n",
        "\n",
        "from sklearn.metrics import r2_score,mean_squared_error\n",
        "\n",
        "r2_3=r2_score(y_test, pred3)\n",
        "print(r2_3)\n"
      ]
    },
    {
      "cell_type": "code",
      "execution_count": 121,
      "metadata": {
        "colab": {
          "base_uri": "https://localhost:8080/"
        },
        "id": "C5YM7_Cg_Iyt",
        "outputId": "6a2cf82f-b711-46fd-ebfb-a6fb7bcd8889"
      },
      "outputs": [
        {
          "name": "stdout",
          "output_type": "stream",
          "text": [
            "[ 83.81399408  97.04724366 144.57469836 111.65529708  96.39612999\n",
            "  93.59877702 126.30150241   6.7475996  115.06672148 140.56971494\n",
            " 134.65575331 114.11640209 156.29469911  82.36733109  95.64549927\n",
            " 120.09691057  95.5232101  109.2359048  141.97001246  91.20962069\n",
            " 140.92350248 117.82511799 112.07671307 161.78955933 116.75204171\n",
            " 103.19537672  98.26758858 121.65056743 142.6966687  130.85858116\n",
            " 105.21264692 113.58630071 108.95825653 123.10515369 109.92981095\n",
            " 154.99478278 121.86325534 101.56740393  88.01807224  81.56891378\n",
            "  97.50165185 123.56762547  97.40657224 140.21337903  99.29981892\n",
            "  74.00683799]\n",
            "0.4812449416650507\n"
          ]
        }
      ],
      "source": [
        "from sklearn.svm import SVR\n",
        "\n",
        "model4=SVR(kernel='linear')\n",
        "\n",
        "model4.fit(X_train_full,y_train)\n",
        "\n",
        "pred4=model4.predict(X_test_full)\n",
        "\n",
        "print(pred4)\n",
        "\n",
        "r2_4=r2_score(y_test, pred4)\n",
        "print(r2_4)\n",
        "\n"
      ]
    },
    {
      "attachments": {},
      "cell_type": "markdown",
      "metadata": {
        "id": "bAR1S0GaApGb"
      },
      "source": [
        "Above examples show that it is safe to assume RandomForestRegressor will be bebst suited model for this dataset"
      ]
    },
    {
      "attachments": {},
      "cell_type": "markdown",
      "metadata": {
        "id": "zWT_81nXWhnK"
      },
      "source": [
        "### Boxplot of data"
      ]
    },
    {
      "cell_type": "code",
      "execution_count": 122,
      "metadata": {
        "colab": {
          "base_uri": "https://localhost:8080/",
          "height": 430
        },
        "id": "OujtTrfxAw8O",
        "outputId": "71b606c8-0047-41bf-ef98-ec83fbd39d34"
      },
      "outputs": [
        {
          "data": {
            "image/png": "[encoded data removed]",
            "text/plain": [
              "<Figure size 640x480 with 1 Axes>"
            ]
          },
          "metadata": {},
          "output_type": "display_data"
        }
      ],
      "source": [
        "train_data=pd.concat((X_train_full,y_train),axis=1)\n",
        "sb.boxplot(data=train_data)\n",
        "plt.show()"
      ]
    },
    {
      "attachments": {},
      "cell_type": "markdown",
      "metadata": {
        "id": "G3V7fJoeHLrC"
      },
      "source": [
        "## Removing Outliers"
      ]
    },
    {
      "cell_type": "code",
      "execution_count": 123,
      "metadata": {
        "colab": {
          "base_uri": "https://localhost:8080/"
        },
        "id": "mr5MrYlaDDOI",
        "outputId": "e36fad12-3ff6-4c98-eb6a-39bf65050bfe"
      },
      "outputs": [
        {
          "name": "stdout",
          "output_type": "stream",
          "text": [
            "Old Shape:  (107, 10)\n",
            "87.5\n",
            "-52.5\n",
            "New Shape:  (86, 10)\n"
          ]
        }
      ],
      "source": [
        "print(\"Old Shape: \", train_data.shape)\n",
        "Q1 = train_data['Covid-Case'].quantile(0.25)\n",
        "Q3 = train_data['Covid-Case'].quantile(0.75)\n",
        "IQR = Q3 - Q1\n",
        "lower = Q1 - 1.5*IQR\n",
        "upper = Q3 + 1.5*IQR\n",
        "\n",
        "print(upper)\n",
        "print(lower)\n",
        "\n",
        "train_data.drop(train_data[train_data[\"Covid-Case\"]<lower].index,inplace=True)\n",
        "train_data.drop(train_data[train_data[\"Covid-Case\"]>upper].index,inplace=True)\n",
        "print(\"New Shape: \", train_data.shape)"
      ]
    },
    {
      "cell_type": "code",
      "execution_count": 124,
      "metadata": {
        "colab": {
          "base_uri": "https://localhost:8080/"
        },
        "id": "Z6SJToYGGIJ5",
        "outputId": "40eb6c1b-be7f-4aa3-9108-0bd55422971f"
      },
      "outputs": [
        {
          "name": "stdout",
          "output_type": "stream",
          "text": [
            "[ 72.384  95.328 149.414  92.672  75.956  90.786 148.064  92.968  92.218\n",
            " 148.766 152.786 117.368 150.13   99.124  90.418 146.794  79.104  90.68\n",
            " 154.556 100.636 146.296 106.092 105.26  150.844 134.684 103.512 105.66\n",
            " 153.414 146.518 153.23   92.736  97.948  91.964 120.154  72.114 155.86\n",
            " 114.818  96.892  78.264  93.66   97.906 150.874  95.464 153.556  90.31\n",
            "  94.624]\n",
            "0.732385749203825\n",
            "18.254476284867298\n"
          ]
        }
      ],
      "source": [
        "y_train_2=train_data[\"PM2.5\"]\n",
        "X_train_2=train_data.drop(\"PM2.5\",axis=1)\n",
        "\n",
        "model1.fit(X_train_2,y_train_2)\n",
        "\n",
        "pred_out=model1.predict(X_test_full)\n",
        "\n",
        "print(pred_out)\n",
        "\n",
        "r2_out=r2_score(y_test, pred_out)\n",
        "print(r2_out)\n",
        "rmse_out=mean_squared_error(y_test, pred_out,squared=False)\n",
        "print(rmse_out)\n"
      ]
    },
    {
      "attachments": {},
      "cell_type": "markdown",
      "metadata": {
        "id": "7DD9EdD4OzqC"
      },
      "source": [
        "## Mutual Information"
      ]
    },
    {
      "cell_type": "code",
      "execution_count": 125,
      "metadata": {
        "colab": {
          "base_uri": "https://localhost:8080/"
        },
        "id": "tVCuhQl6PFtm",
        "outputId": "05dcc2b1-1c07-47b0-fda5-6a8f3bb9c0b7"
      },
      "outputs": [
        {
          "name": "stdout",
          "output_type": "stream",
          "text": [
            "<class 'pandas.core.frame.DataFrame'>\n",
            "Int64Index: 86 entries, 73 to 47\n",
            "Data columns (total 9 columns):\n",
            " #   Column       Non-Null Count  Dtype  \n",
            "---  ------       --------------  -----  \n",
            " 0   Humidity     86 non-null     float64\n",
            " 1   Wind Speed   86 non-null     float64\n",
            " 2   Dew Point    86 non-null     float64\n",
            " 3   Temperature  86 non-null     float64\n",
            " 4   Pressure     86 non-null     float64\n",
            " 5   Festival     86 non-null     int64  \n",
            " 6   Lockdown     86 non-null     int64  \n",
            " 7   Covid-Case   86 non-null     int64  \n",
            " 8   Days         86 non-null     int64  \n",
            "dtypes: float64(5), int64(4)\n",
            "memory usage: 6.7 KB\n"
          ]
        }
      ],
      "source": [
        "X_train_2.info()"
      ]
    },
    {
      "cell_type": "code",
      "execution_count": 126,
      "metadata": {
        "colab": {
          "base_uri": "https://localhost:8080/"
        },
        "id": "hch2NJgbPNSk",
        "outputId": "eab4c2f2-b93d-482b-ff67-42eff57960c1"
      },
      "outputs": [
        {
          "name": "stdout",
          "output_type": "stream",
          "text": [
            "<class 'pandas.core.series.Series'>\n",
            "Int64Index: 86 entries, 73 to 47\n",
            "Series name: PM2.5\n",
            "Non-Null Count  Dtype\n",
            "--------------  -----\n",
            "86 non-null     int64\n",
            "dtypes: int64(1)\n",
            "memory usage: 1.3 KB\n"
          ]
        }
      ],
      "source": [
        "y_train_2.info()"
      ]
    },
    {
      "cell_type": "code",
      "execution_count": 127,
      "metadata": {
        "colab": {
          "base_uri": "https://localhost:8080/"
        },
        "id": "N4MQnsTKHODn",
        "outputId": "b1e5e39d-a87d-41a2-adc6-e173fffdc124"
      },
      "outputs": [
        {
          "name": "stdout",
          "output_type": "stream",
          "text": [
            "Days           0.427147\n",
            "Temperature    0.310084\n",
            "Humidity       0.301199\n",
            "Wind Speed     0.155601\n",
            "Dew Point      0.110848\n",
            "Covid-Case     0.105655\n",
            "Pressure       0.086923\n",
            "Lockdown       0.060665\n",
            "Festival       0.044855\n",
            "Name: MI Scores, dtype: float64\n"
          ]
        }
      ],
      "source": [
        "from sklearn.feature_selection import mutual_info_regression\n",
        "\n",
        "initial_MI=mutual_info_regression(X_train_2,y_train_2,random_state=0)\n",
        "initial_MI = pd.Series(initial_MI, name=\"MI Scores\", index=X.columns)\n",
        "initial_MI = initial_MI.sort_values(ascending=False)\n",
        "\n",
        "print(initial_MI)"
      ]
    },
    {
      "attachments": {},
      "cell_type": "markdown",
      "metadata": {
        "id": "MVoXGvO-QWCO"
      },
      "source": [
        "## PCA"
      ]
    },
    {
      "cell_type": "code",
      "execution_count": 128,
      "metadata": {
        "colab": {
          "base_uri": "https://localhost:8080/",
          "height": 676
        },
        "id": "hzEx0fs6QSZ_",
        "outputId": "44870704-cd3b-4950-db77-a69b2fa075e4"
      },
      "outputs": [
        {
          "data": {
            "text/html": [
              "\n",
              "  <div id=\"df-f9fccdb8-8d38-4951-8967-4ba78b647d3d\">\n",
              "    <div class=\"colab-df-container\">\n",
              "      <div>\n",
              "<style scoped>\n",
              "    .dataframe tbody tr th:only-of-type {\n",
              "        vertical-align: middle;\n",
              "    }\n",
              "\n",
              "    .dataframe tbody tr th {\n",
              "        vertical-align: top;\n",
              "    }\n",
              "\n",
              "    .dataframe thead th {\n",
              "        text-align: right;\n",
              "    }\n",
              "</style>\n",
              "<table border=\"1\" class=\"dataframe\">\n",
              "  <thead>\n",
              "    <tr style=\"text-align: right;\">\n",
              "      <th></th>\n",
              "      <th>PC1</th>\n",
              "      <th>PC2</th>\n",
              "      <th>PC3</th>\n",
              "      <th>PC4</th>\n",
              "      <th>PC5</th>\n",
              "      <th>PC6</th>\n",
              "      <th>PC7</th>\n",
              "      <th>PC8</th>\n",
              "      <th>PC9</th>\n",
              "    </tr>\n",
              "  </thead>\n",
              "  <tbody>\n",
              "    <tr>\n",
              "      <th>0</th>\n",
              "      <td>11.274882</td>\n",
              "      <td>-8.853211</td>\n",
              "      <td>1.875470</td>\n",
              "      <td>-1.736656</td>\n",
              "      <td>-1.334790</td>\n",
              "      <td>-0.427438</td>\n",
              "      <td>0.155394</td>\n",
              "      <td>-0.000573</td>\n",
              "      <td>0.032339</td>\n",
              "    </tr>\n",
              "    <tr>\n",
              "      <th>1</th>\n",
              "      <td>-58.088808</td>\n",
              "      <td>12.324946</td>\n",
              "      <td>3.337216</td>\n",
              "      <td>1.316142</td>\n",
              "      <td>0.096955</td>\n",
              "      <td>-0.403140</td>\n",
              "      <td>0.087246</td>\n",
              "      <td>0.010757</td>\n",
              "      <td>-0.018289</td>\n",
              "    </tr>\n",
              "    <tr>\n",
              "      <th>2</th>\n",
              "      <td>-16.817718</td>\n",
              "      <td>0.633434</td>\n",
              "      <td>6.119764</td>\n",
              "      <td>-3.438686</td>\n",
              "      <td>0.801001</td>\n",
              "      <td>0.582948</td>\n",
              "      <td>0.318970</td>\n",
              "      <td>-0.023410</td>\n",
              "      <td>-0.060727</td>\n",
              "    </tr>\n",
              "    <tr>\n",
              "      <th>3</th>\n",
              "      <td>-51.137750</td>\n",
              "      <td>8.485407</td>\n",
              "      <td>0.421872</td>\n",
              "      <td>-1.542997</td>\n",
              "      <td>-0.190529</td>\n",
              "      <td>-0.461963</td>\n",
              "      <td>0.092046</td>\n",
              "      <td>0.011129</td>\n",
              "      <td>0.007922</td>\n",
              "    </tr>\n",
              "    <tr>\n",
              "      <th>4</th>\n",
              "      <td>37.302710</td>\n",
              "      <td>-10.455413</td>\n",
              "      <td>11.422607</td>\n",
              "      <td>1.339546</td>\n",
              "      <td>-1.490197</td>\n",
              "      <td>-0.498289</td>\n",
              "      <td>-0.864055</td>\n",
              "      <td>-0.029724</td>\n",
              "      <td>0.103233</td>\n",
              "    </tr>\n",
              "    <tr>\n",
              "      <th>5</th>\n",
              "      <td>81.599140</td>\n",
              "      <td>46.380312</td>\n",
              "      <td>-5.534578</td>\n",
              "      <td>-3.403410</td>\n",
              "      <td>-0.748530</td>\n",
              "      <td>-0.185316</td>\n",
              "      <td>0.020537</td>\n",
              "      <td>-0.160631</td>\n",
              "      <td>-0.027822</td>\n",
              "    </tr>\n",
              "    <tr>\n",
              "      <th>6</th>\n",
              "      <td>-3.204014</td>\n",
              "      <td>-7.699956</td>\n",
              "      <td>-6.507594</td>\n",
              "      <td>1.139425</td>\n",
              "      <td>1.011946</td>\n",
              "      <td>-0.314779</td>\n",
              "      <td>-0.029541</td>\n",
              "      <td>-0.001324</td>\n",
              "      <td>-0.067064</td>\n",
              "    </tr>\n",
              "    <tr>\n",
              "      <th>7</th>\n",
              "      <td>9.394190</td>\n",
              "      <td>-8.715614</td>\n",
              "      <td>2.127499</td>\n",
              "      <td>-4.216869</td>\n",
              "      <td>-2.059454</td>\n",
              "      <td>0.474484</td>\n",
              "      <td>-0.045130</td>\n",
              "      <td>-0.013267</td>\n",
              "      <td>0.043191</td>\n",
              "    </tr>\n",
              "    <tr>\n",
              "      <th>8</th>\n",
              "      <td>21.386033</td>\n",
              "      <td>-13.743046</td>\n",
              "      <td>-3.442840</td>\n",
              "      <td>-0.208710</td>\n",
              "      <td>0.778621</td>\n",
              "      <td>2.682785</td>\n",
              "      <td>-0.121102</td>\n",
              "      <td>-0.045304</td>\n",
              "      <td>-0.049285</td>\n",
              "    </tr>\n",
              "    <tr>\n",
              "      <th>9</th>\n",
              "      <td>-3.949734</td>\n",
              "      <td>-10.234275</td>\n",
              "      <td>-11.973205</td>\n",
              "      <td>-0.808491</td>\n",
              "      <td>1.615867</td>\n",
              "      <td>-0.392790</td>\n",
              "      <td>-0.479526</td>\n",
              "      <td>-0.001330</td>\n",
              "      <td>-0.043314</td>\n",
              "    </tr>\n",
              "    <tr>\n",
              "      <th>10</th>\n",
              "      <td>14.848587</td>\n",
              "      <td>-11.973371</td>\n",
              "      <td>-2.386250</td>\n",
              "      <td>-2.983180</td>\n",
              "      <td>-0.508659</td>\n",
              "      <td>-0.446267</td>\n",
              "      <td>-0.040030</td>\n",
              "      <td>-0.008671</td>\n",
              "      <td>-0.045459</td>\n",
              "    </tr>\n",
              "    <tr>\n",
              "      <th>11</th>\n",
              "      <td>48.577560</td>\n",
              "      <td>-12.912044</td>\n",
              "      <td>-1.976725</td>\n",
              "      <td>5.054176</td>\n",
              "      <td>-1.756334</td>\n",
              "      <td>-0.232226</td>\n",
              "      <td>0.033482</td>\n",
              "      <td>-0.099327</td>\n",
              "      <td>0.002762</td>\n",
              "    </tr>\n",
              "    <tr>\n",
              "      <th>12</th>\n",
              "      <td>45.464514</td>\n",
              "      <td>-14.096173</td>\n",
              "      <td>0.835101</td>\n",
              "      <td>6.014595</td>\n",
              "      <td>0.987669</td>\n",
              "      <td>-0.116097</td>\n",
              "      <td>0.303670</td>\n",
              "      <td>-0.055935</td>\n",
              "      <td>0.012094</td>\n",
              "    </tr>\n",
              "    <tr>\n",
              "      <th>13</th>\n",
              "      <td>-12.595699</td>\n",
              "      <td>-3.287355</td>\n",
              "      <td>-2.022233</td>\n",
              "      <td>0.097492</td>\n",
              "      <td>-0.259219</td>\n",
              "      <td>-0.369569</td>\n",
              "      <td>0.156362</td>\n",
              "      <td>0.007235</td>\n",
              "      <td>0.020275</td>\n",
              "    </tr>\n",
              "    <tr>\n",
              "      <th>14</th>\n",
              "      <td>25.166188</td>\n",
              "      <td>-16.040405</td>\n",
              "      <td>-4.036656</td>\n",
              "      <td>-4.818191</td>\n",
              "      <td>0.234135</td>\n",
              "      <td>-0.478681</td>\n",
              "      <td>-0.218361</td>\n",
              "      <td>-0.013420</td>\n",
              "      <td>-0.020375</td>\n",
              "    </tr>\n",
              "    <tr>\n",
              "      <th>15</th>\n",
              "      <td>0.615570</td>\n",
              "      <td>-8.346389</td>\n",
              "      <td>-3.940238</td>\n",
              "      <td>-1.829428</td>\n",
              "      <td>2.051440</td>\n",
              "      <td>-0.349044</td>\n",
              "      <td>0.041356</td>\n",
              "      <td>-0.008894</td>\n",
              "      <td>-0.040792</td>\n",
              "    </tr>\n",
              "    <tr>\n",
              "      <th>16</th>\n",
              "      <td>33.249773</td>\n",
              "      <td>-10.418859</td>\n",
              "      <td>7.999394</td>\n",
              "      <td>3.009341</td>\n",
              "      <td>-0.922757</td>\n",
              "      <td>-0.280303</td>\n",
              "      <td>0.270128</td>\n",
              "      <td>-0.025270</td>\n",
              "      <td>0.003898</td>\n",
              "    </tr>\n",
              "    <tr>\n",
              "      <th>17</th>\n",
              "      <td>39.212824</td>\n",
              "      <td>-7.434023</td>\n",
              "      <td>20.244631</td>\n",
              "      <td>0.659192</td>\n",
              "      <td>1.493347</td>\n",
              "      <td>-0.454504</td>\n",
              "      <td>-0.858962</td>\n",
              "      <td>-0.054695</td>\n",
              "      <td>0.016137</td>\n",
              "    </tr>\n",
              "    <tr>\n",
              "      <th>18</th>\n",
              "      <td>-10.574623</td>\n",
              "      <td>0.204840</td>\n",
              "      <td>7.407593</td>\n",
              "      <td>0.249742</td>\n",
              "      <td>-1.634863</td>\n",
              "      <td>-0.345132</td>\n",
              "      <td>0.740817</td>\n",
              "      <td>0.004389</td>\n",
              "      <td>-0.000984</td>\n",
              "    </tr>\n",
              "    <tr>\n",
              "      <th>19</th>\n",
              "      <td>-10.168795</td>\n",
              "      <td>1.269712</td>\n",
              "      <td>11.578159</td>\n",
              "      <td>-2.473763</td>\n",
              "      <td>-0.161363</td>\n",
              "      <td>-0.397230</td>\n",
              "      <td>0.615446</td>\n",
              "      <td>-0.006387</td>\n",
              "      <td>0.021399</td>\n",
              "    </tr>\n",
              "  </tbody>\n",
              "</table>\n",
              "</div>\n",
              "      <button class=\"colab-df-convert\" onclick=\"convertToInteractive('df-f9fccdb8-8d38-4951-8967-4ba78b647d3d')\"\n",
              "              title=\"Convert this dataframe to an interactive table.\"\n",
              "              style=\"display:none;\">\n",
              "        \n",
              "  <svg xmlns=\"http://www.w3.org/2000/svg\" height=\"24px\"viewBox=\"0 0 24 24\"\n",
              "       width=\"24px\">\n",
              "    <path d=\"M0 0h24v24H0V0z\" fill=\"none\"/>\n",
              "    <path d=\"M18.56 5.44l.94 2.06.94-2.06 2.06-.94-2.06-.94-.94-2.06-.94 2.06-2.06.94zm-11 1L8.5 8.5l.94-2.06 2.06-.94-2.06-.94L8.5 2.5l-.94 2.06-2.06.94zm10 10l.94 2.06.94-2.06 2.06-.94-2.06-.94-.94-2.06-.94 2.06-2.06.94z\"/><path d=\"M17.41 7.96l-1.37-1.37c-.4-.4-.92-.59-1.43-.59-.52 0-1.04.2-1.43.59L10.3 9.45l-7.72 7.72c-.78.78-.78 2.05 0 2.83L4 21.41c.39.39.9.59 1.41.59.51 0 1.02-.2 1.41-.59l7.78-7.78 2.81-2.81c.8-.78.8-2.07 0-2.86zM5.41 20L4 18.59l7.72-7.72 1.47 1.35L5.41 20z\"/>\n",
              "  </svg>\n",
              "      </button>\n",
              "      \n",
              "  <style>\n",
              "    .colab-df-container {\n",
              "      display:flex;\n",
              "      flex-wrap:wrap;\n",
              "      gap: 12px;\n",
              "    }\n",
              "\n",
              "    .colab-df-convert {\n",
              "      background-color: #E8F0FE;\n",
              "      border: none;\n",
              "      border-radius: 50%;\n",
              "      cursor: pointer;\n",
              "      display: none;\n",
              "      fill: #1967D2;\n",
              "      height: 32px;\n",
              "      padding: 0 0 0 0;\n",
              "      width: 32px;\n",
              "    }\n",
              "\n",
              "    .colab-df-convert:hover {\n",
              "      background-color: #E2EBFA;\n",
              "      box-shadow: 0px 1px 2px rgba(60, 64, 67, 0.3), 0px 1px 3px 1px rgba(60, 64, 67, 0.15);\n",
              "      fill: #174EA6;\n",
              "    }\n",
              "\n",
              "    [theme=dark] .colab-df-convert {\n",
              "      background-color: #3B4455;\n",
              "      fill: #D2E3FC;\n",
              "    }\n",
              "\n",
              "    [theme=dark] .colab-df-convert:hover {\n",
              "      background-color: #434B5C;\n",
              "      box-shadow: 0px 1px 3px 1px rgba(0, 0, 0, 0.15);\n",
              "      filter: drop-shadow(0px 1px 2px rgba(0, 0, 0, 0.3));\n",
              "      fill: #FFFFFF;\n",
              "    }\n",
              "  </style>\n",
              "\n",
              "      <script>\n",
              "        const buttonEl =\n",
              "          document.querySelector('#df-f9fccdb8-8d38-4951-8967-4ba78b647d3d button.colab-df-convert');\n",
              "        buttonEl.style.display =\n",
              "          google.colab.kernel.accessAllowed ? 'block' : 'none';\n",
              "\n",
              "        async function convertToInteractive(key) {\n",
              "          const element = document.querySelector('#df-f9fccdb8-8d38-4951-8967-4ba78b647d3d');\n",
              "          const dataTable =\n",
              "            await google.colab.kernel.invokeFunction('convertToInteractive',\n",
              "                                                     [key], {});\n",
              "          if (!dataTable) return;\n",
              "\n",
              "          const docLinkHtml = 'Like what you see? Visit the ' +\n",
              "            '<a target=\"_blank\" href=https://colab.research.google.com/notebooks/data_table.ipynb>data table notebook</a>'\n",
              "            + ' to learn more about interactive tables.';\n",
              "          element.innerHTML = '';\n",
              "          dataTable['output_type'] = 'display_data';\n",
              "          await google.colab.output.renderOutput(dataTable, element);\n",
              "          const docLink = document.createElement('div');\n",
              "          docLink.innerHTML = docLinkHtml;\n",
              "          element.appendChild(docLink);\n",
              "        }\n",
              "      </script>\n",
              "    </div>\n",
              "  </div>\n",
              "  "
            ],
            "text/plain": [
              "          PC1        PC2        PC3       PC4       PC5       PC6       PC7  \\\n",
              "0   11.274882  -8.853211   1.875470 -1.736656 -1.334790 -0.427438  0.155394   \n",
              "1  -58.088808  12.324946   3.337216  1.316142  0.096955 -0.403140  0.087246   \n",
              "2  -16.817718   0.633434   6.119764 -3.438686  0.801001  0.582948  0.318970   \n",
              "3  -51.137750   8.485407   0.421872 -1.542997 -0.190529 -0.461963  0.092046   \n",
              "4   37.302710 -10.455413  11.422607  1.339546 -1.490197 -0.498289 -0.864055   \n",
              "5   81.599140  46.380312  -5.534578 -3.403410 -0.748530 -0.185316  0.020537   \n",
              "6   -3.204014  -7.699956  -6.507594  1.139425  1.011946 -0.314779 -0.029541   \n",
              "7    9.394190  -8.715614   2.127499 -4.216869 -2.059454  0.474484 -0.045130   \n",
              "8   21.386033 -13.743046  -3.442840 -0.208710  0.778621  2.682785 -0.121102   \n",
              "9   -3.949734 -10.234275 -11.973205 -0.808491  1.615867 -0.392790 -0.479526   \n",
              "10  14.848587 -11.973371  -2.386250 -2.983180 -0.508659 -0.446267 -0.040030   \n",
              "11  48.577560 -12.912044  -1.976725  5.054176 -1.756334 -0.232226  0.033482   \n",
              "12  45.464514 -14.096173   0.835101  6.014595  0.987669 -0.116097  0.303670   \n",
              "13 -12.595699  -3.287355  -2.022233  0.097492 -0.259219 -0.369569  0.156362   \n",
              "14  25.166188 -16.040405  -4.036656 -4.818191  0.234135 -0.478681 -0.218361   \n",
              "15   0.615570  -8.346389  -3.940238 -1.829428  2.051440 -0.349044  0.041356   \n",
              "16  33.249773 -10.418859   7.999394  3.009341 -0.922757 -0.280303  0.270128   \n",
              "17  39.212824  -7.434023  20.244631  0.659192  1.493347 -0.454504 -0.858962   \n",
              "18 -10.574623   0.204840   7.407593  0.249742 -1.634863 -0.345132  0.740817   \n",
              "19 -10.168795   1.269712  11.578159 -2.473763 -0.161363 -0.397230  0.615446   \n",
              "\n",
              "         PC8       PC9  \n",
              "0  -0.000573  0.032339  \n",
              "1   0.010757 -0.018289  \n",
              "2  -0.023410 -0.060727  \n",
              "3   0.011129  0.007922  \n",
              "4  -0.029724  0.103233  \n",
              "5  -0.160631 -0.027822  \n",
              "6  -0.001324 -0.067064  \n",
              "7  -0.013267  0.043191  \n",
              "8  -0.045304 -0.049285  \n",
              "9  -0.001330 -0.043314  \n",
              "10 -0.008671 -0.045459  \n",
              "11 -0.099327  0.002762  \n",
              "12 -0.055935  0.012094  \n",
              "13  0.007235  0.020275  \n",
              "14 -0.013420 -0.020375  \n",
              "15 -0.008894 -0.040792  \n",
              "16 -0.025270  0.003898  \n",
              "17 -0.054695  0.016137  \n",
              "18  0.004389 -0.000984  \n",
              "19 -0.006387  0.021399  "
            ]
          },
          "execution_count": 128,
          "metadata": {},
          "output_type": "execute_result"
        }
      ],
      "source": [
        "from sklearn.decomposition import PCA\n",
        "\n",
        "# Create principal components\n",
        "pca = PCA()\n",
        "X_train_imp_pca = pca.fit_transform(X_train_2)\n",
        "\n",
        "# Convert to dataframe\n",
        "component_names = [f\"PC{i+1}\" for i in range(X_train_imp_pca.shape[1])]\n",
        "X_train_imp_pca = pd.DataFrame(X_train_imp_pca, columns=component_names)\n",
        "\n",
        "X_train_imp_pca.head(20)"
      ]
    },
    {
      "cell_type": "code",
      "execution_count": 129,
      "metadata": {
        "colab": {
          "base_uri": "https://localhost:8080/",
          "height": 676
        },
        "id": "MyKfacpyRPBK",
        "outputId": "d517dc6e-52a7-499d-d57a-eff2d752819b"
      },
      "outputs": [
        {
          "data": {
            "text/html": [
              "\n",
              "  <div id=\"df-c2bbbbda-9dcf-4042-a9d1-19d852e48829\">\n",
              "    <div class=\"colab-df-container\">\n",
              "      <div>\n",
              "<style scoped>\n",
              "    .dataframe tbody tr th:only-of-type {\n",
              "        vertical-align: middle;\n",
              "    }\n",
              "\n",
              "    .dataframe tbody tr th {\n",
              "        vertical-align: top;\n",
              "    }\n",
              "\n",
              "    .dataframe thead th {\n",
              "        text-align: right;\n",
              "    }\n",
              "</style>\n",
              "<table border=\"1\" class=\"dataframe\">\n",
              "  <thead>\n",
              "    <tr style=\"text-align: right;\">\n",
              "      <th></th>\n",
              "      <th>PC1</th>\n",
              "      <th>PC2</th>\n",
              "      <th>PC3</th>\n",
              "      <th>PC4</th>\n",
              "      <th>PC5</th>\n",
              "      <th>PC6</th>\n",
              "      <th>PC7</th>\n",
              "      <th>PC8</th>\n",
              "      <th>PC9</th>\n",
              "    </tr>\n",
              "  </thead>\n",
              "  <tbody>\n",
              "    <tr>\n",
              "      <th>0</th>\n",
              "      <td>-34.555775</td>\n",
              "      <td>6.215840</td>\n",
              "      <td>3.258137</td>\n",
              "      <td>4.556957</td>\n",
              "      <td>-0.433197</td>\n",
              "      <td>3.706087</td>\n",
              "      <td>-0.042233</td>\n",
              "      <td>-0.037627</td>\n",
              "      <td>-0.029864</td>\n",
              "    </tr>\n",
              "    <tr>\n",
              "      <th>1</th>\n",
              "      <td>204.534897</td>\n",
              "      <td>423.061395</td>\n",
              "      <td>-167.825987</td>\n",
              "      <td>-80.916782</td>\n",
              "      <td>5.713472</td>\n",
              "      <td>-0.102408</td>\n",
              "      <td>0.233942</td>\n",
              "      <td>-7.310100</td>\n",
              "      <td>0.574269</td>\n",
              "    </tr>\n",
              "    <tr>\n",
              "      <th>2</th>\n",
              "      <td>-3.717948</td>\n",
              "      <td>-11.240356</td>\n",
              "      <td>-14.134387</td>\n",
              "      <td>-1.174510</td>\n",
              "      <td>-1.732131</td>\n",
              "      <td>-0.541682</td>\n",
              "      <td>-0.876690</td>\n",
              "      <td>0.006043</td>\n",
              "      <td>-0.061950</td>\n",
              "    </tr>\n",
              "    <tr>\n",
              "      <th>3</th>\n",
              "      <td>42.876679</td>\n",
              "      <td>-15.288045</td>\n",
              "      <td>1.316740</td>\n",
              "      <td>6.559257</td>\n",
              "      <td>-0.822410</td>\n",
              "      <td>-0.192935</td>\n",
              "      <td>0.080104</td>\n",
              "      <td>-0.019435</td>\n",
              "      <td>-0.005803</td>\n",
              "    </tr>\n",
              "    <tr>\n",
              "      <th>4</th>\n",
              "      <td>-37.650264</td>\n",
              "      <td>5.275625</td>\n",
              "      <td>-0.339670</td>\n",
              "      <td>3.172363</td>\n",
              "      <td>-0.055760</td>\n",
              "      <td>-0.320581</td>\n",
              "      <td>0.172181</td>\n",
              "      <td>0.020106</td>\n",
              "      <td>0.084160</td>\n",
              "    </tr>\n",
              "    <tr>\n",
              "      <th>5</th>\n",
              "      <td>-54.782927</td>\n",
              "      <td>9.405414</td>\n",
              "      <td>-1.596464</td>\n",
              "      <td>1.892648</td>\n",
              "      <td>-0.668841</td>\n",
              "      <td>2.555138</td>\n",
              "      <td>-0.500660</td>\n",
              "      <td>-0.013515</td>\n",
              "      <td>0.080959</td>\n",
              "    </tr>\n",
              "    <tr>\n",
              "      <th>6</th>\n",
              "      <td>-18.070799</td>\n",
              "      <td>-1.571184</td>\n",
              "      <td>-0.761940</td>\n",
              "      <td>-1.743374</td>\n",
              "      <td>0.214454</td>\n",
              "      <td>0.562477</td>\n",
              "      <td>-0.121955</td>\n",
              "      <td>-0.008774</td>\n",
              "      <td>0.031046</td>\n",
              "    </tr>\n",
              "    <tr>\n",
              "      <th>7</th>\n",
              "      <td>38.018398</td>\n",
              "      <td>-15.378173</td>\n",
              "      <td>-2.746204</td>\n",
              "      <td>9.627873</td>\n",
              "      <td>22.267641</td>\n",
              "      <td>3.672160</td>\n",
              "      <td>1.006598</td>\n",
              "      <td>-0.096373</td>\n",
              "      <td>0.140319</td>\n",
              "    </tr>\n",
              "    <tr>\n",
              "      <th>8</th>\n",
              "      <td>57.100680</td>\n",
              "      <td>2.550345</td>\n",
              "      <td>1.114624</td>\n",
              "      <td>2.332867</td>\n",
              "      <td>-1.446275</td>\n",
              "      <td>-0.396611</td>\n",
              "      <td>-1.027652</td>\n",
              "      <td>-0.363537</td>\n",
              "      <td>0.008592</td>\n",
              "    </tr>\n",
              "    <tr>\n",
              "      <th>9</th>\n",
              "      <td>-6.820880</td>\n",
              "      <td>-3.252867</td>\n",
              "      <td>3.674373</td>\n",
              "      <td>-3.453619</td>\n",
              "      <td>-1.092662</td>\n",
              "      <td>1.515798</td>\n",
              "      <td>0.013234</td>\n",
              "      <td>-0.031999</td>\n",
              "      <td>-0.065205</td>\n",
              "    </tr>\n",
              "    <tr>\n",
              "      <th>10</th>\n",
              "      <td>20.576891</td>\n",
              "      <td>-15.635309</td>\n",
              "      <td>-8.937452</td>\n",
              "      <td>0.720802</td>\n",
              "      <td>-0.423352</td>\n",
              "      <td>1.646821</td>\n",
              "      <td>-0.328054</td>\n",
              "      <td>-0.018109</td>\n",
              "      <td>0.042094</td>\n",
              "    </tr>\n",
              "    <tr>\n",
              "      <th>11</th>\n",
              "      <td>34.199369</td>\n",
              "      <td>-10.202618</td>\n",
              "      <td>7.991769</td>\n",
              "      <td>5.295063</td>\n",
              "      <td>-1.602891</td>\n",
              "      <td>-0.229412</td>\n",
              "      <td>0.376664</td>\n",
              "      <td>-0.021515</td>\n",
              "      <td>-0.015764</td>\n",
              "    </tr>\n",
              "    <tr>\n",
              "      <th>12</th>\n",
              "      <td>19.643919</td>\n",
              "      <td>-13.959827</td>\n",
              "      <td>-2.892862</td>\n",
              "      <td>-4.736537</td>\n",
              "      <td>0.919937</td>\n",
              "      <td>-0.464632</td>\n",
              "      <td>-0.201264</td>\n",
              "      <td>-0.014944</td>\n",
              "      <td>-0.020848</td>\n",
              "    </tr>\n",
              "    <tr>\n",
              "      <th>13</th>\n",
              "      <td>261.646787</td>\n",
              "      <td>624.780984</td>\n",
              "      <td>-278.085561</td>\n",
              "      <td>-119.876188</td>\n",
              "      <td>9.691886</td>\n",
              "      <td>0.016224</td>\n",
              "      <td>-0.148232</td>\n",
              "      <td>-11.208236</td>\n",
              "      <td>1.006965</td>\n",
              "    </tr>\n",
              "    <tr>\n",
              "      <th>14</th>\n",
              "      <td>42.712215</td>\n",
              "      <td>-13.903536</td>\n",
              "      <td>3.802725</td>\n",
              "      <td>8.014702</td>\n",
              "      <td>1.013245</td>\n",
              "      <td>-0.123889</td>\n",
              "      <td>0.023463</td>\n",
              "      <td>-0.025880</td>\n",
              "      <td>-0.007617</td>\n",
              "    </tr>\n",
              "    <tr>\n",
              "      <th>15</th>\n",
              "      <td>-18.251744</td>\n",
              "      <td>3.336550</td>\n",
              "      <td>10.895285</td>\n",
              "      <td>-2.250945</td>\n",
              "      <td>0.513589</td>\n",
              "      <td>1.602837</td>\n",
              "      <td>0.347601</td>\n",
              "      <td>-0.030328</td>\n",
              "      <td>0.021456</td>\n",
              "    </tr>\n",
              "    <tr>\n",
              "      <th>16</th>\n",
              "      <td>-28.270340</td>\n",
              "      <td>3.594314</td>\n",
              "      <td>1.402184</td>\n",
              "      <td>4.379154</td>\n",
              "      <td>-1.117168</td>\n",
              "      <td>0.688724</td>\n",
              "      <td>0.133834</td>\n",
              "      <td>0.000299</td>\n",
              "      <td>-0.028462</td>\n",
              "    </tr>\n",
              "    <tr>\n",
              "      <th>17</th>\n",
              "      <td>54.327025</td>\n",
              "      <td>-1.709960</td>\n",
              "      <td>1.362333</td>\n",
              "      <td>5.012849</td>\n",
              "      <td>-1.632483</td>\n",
              "      <td>-0.193141</td>\n",
              "      <td>0.133358</td>\n",
              "      <td>-0.269832</td>\n",
              "      <td>-0.004646</td>\n",
              "    </tr>\n",
              "    <tr>\n",
              "      <th>18</th>\n",
              "      <td>4.992883</td>\n",
              "      <td>-10.176192</td>\n",
              "      <td>-5.448181</td>\n",
              "      <td>-1.730624</td>\n",
              "      <td>-0.864959</td>\n",
              "      <td>0.543655</td>\n",
              "      <td>-0.311759</td>\n",
              "      <td>-0.015035</td>\n",
              "      <td>-0.057656</td>\n",
              "    </tr>\n",
              "    <tr>\n",
              "      <th>19</th>\n",
              "      <td>79.350298</td>\n",
              "      <td>38.369408</td>\n",
              "      <td>8.459004</td>\n",
              "      <td>-2.154494</td>\n",
              "      <td>1.073993</td>\n",
              "      <td>-0.391937</td>\n",
              "      <td>-1.492140</td>\n",
              "      <td>0.027069</td>\n",
              "      <td>-0.044605</td>\n",
              "    </tr>\n",
              "  </tbody>\n",
              "</table>\n",
              "</div>\n",
              "      <button class=\"colab-df-convert\" onclick=\"convertToInteractive('df-c2bbbbda-9dcf-4042-a9d1-19d852e48829')\"\n",
              "              title=\"Convert this dataframe to an interactive table.\"\n",
              "              style=\"display:none;\">\n",
              "        \n",
              "  <svg xmlns=\"http://www.w3.org/2000/svg\" height=\"24px\"viewBox=\"0 0 24 24\"\n",
              "       width=\"24px\">\n",
              "    <path d=\"M0 0h24v24H0V0z\" fill=\"none\"/>\n",
              "    <path d=\"M18.56 5.44l.94 2.06.94-2.06 2.06-.94-2.06-.94-.94-2.06-.94 2.06-2.06.94zm-11 1L8.5 8.5l.94-2.06 2.06-.94-2.06-.94L8.5 2.5l-.94 2.06-2.06.94zm10 10l.94 2.06.94-2.06 2.06-.94-2.06-.94-.94-2.06-.94 2.06-2.06.94z\"/><path d=\"M17.41 7.96l-1.37-1.37c-.4-.4-.92-.59-1.43-.59-.52 0-1.04.2-1.43.59L10.3 9.45l-7.72 7.72c-.78.78-.78 2.05 0 2.83L4 21.41c.39.39.9.59 1.41.59.51 0 1.02-.2 1.41-.59l7.78-7.78 2.81-2.81c.8-.78.8-2.07 0-2.86zM5.41 20L4 18.59l7.72-7.72 1.47 1.35L5.41 20z\"/>\n",
              "  </svg>\n",
              "      </button>\n",
              "      \n",
              "  <style>\n",
              "    .colab-df-container {\n",
              "      display:flex;\n",
              "      flex-wrap:wrap;\n",
              "      gap: 12px;\n",
              "    }\n",
              "\n",
              "    .colab-df-convert {\n",
              "      background-color: #E8F0FE;\n",
              "      border: none;\n",
              "      border-radius: 50%;\n",
              "      cursor: pointer;\n",
              "      display: none;\n",
              "      fill: #1967D2;\n",
              "      height: 32px;\n",
              "      padding: 0 0 0 0;\n",
              "      width: 32px;\n",
              "    }\n",
              "\n",
              "    .colab-df-convert:hover {\n",
              "      background-color: #E2EBFA;\n",
              "      box-shadow: 0px 1px 2px rgba(60, 64, 67, 0.3), 0px 1px 3px 1px rgba(60, 64, 67, 0.15);\n",
              "      fill: #174EA6;\n",
              "    }\n",
              "\n",
              "    [theme=dark] .colab-df-convert {\n",
              "      background-color: #3B4455;\n",
              "      fill: #D2E3FC;\n",
              "    }\n",
              "\n",
              "    [theme=dark] .colab-df-convert:hover {\n",
              "      background-color: #434B5C;\n",
              "      box-shadow: 0px 1px 3px 1px rgba(0, 0, 0, 0.15);\n",
              "      filter: drop-shadow(0px 1px 2px rgba(0, 0, 0, 0.3));\n",
              "      fill: #FFFFFF;\n",
              "    }\n",
              "  </style>\n",
              "\n",
              "      <script>\n",
              "        const buttonEl =\n",
              "          document.querySelector('#df-c2bbbbda-9dcf-4042-a9d1-19d852e48829 button.colab-df-convert');\n",
              "        buttonEl.style.display =\n",
              "          google.colab.kernel.accessAllowed ? 'block' : 'none';\n",
              "\n",
              "        async function convertToInteractive(key) {\n",
              "          const element = document.querySelector('#df-c2bbbbda-9dcf-4042-a9d1-19d852e48829');\n",
              "          const dataTable =\n",
              "            await google.colab.kernel.invokeFunction('convertToInteractive',\n",
              "                                                     [key], {});\n",
              "          if (!dataTable) return;\n",
              "\n",
              "          const docLinkHtml = 'Like what you see? Visit the ' +\n",
              "            '<a target=\"_blank\" href=https://colab.research.google.com/notebooks/data_table.ipynb>data table notebook</a>'\n",
              "            + ' to learn more about interactive tables.';\n",
              "          element.innerHTML = '';\n",
              "          dataTable['output_type'] = 'display_data';\n",
              "          await google.colab.output.renderOutput(dataTable, element);\n",
              "          const docLink = document.createElement('div');\n",
              "          docLink.innerHTML = docLinkHtml;\n",
              "          element.appendChild(docLink);\n",
              "        }\n",
              "      </script>\n",
              "    </div>\n",
              "  </div>\n",
              "  "
            ],
            "text/plain": [
              "           PC1         PC2         PC3         PC4        PC5       PC6  \\\n",
              "0   -34.555775    6.215840    3.258137    4.556957  -0.433197  3.706087   \n",
              "1   204.534897  423.061395 -167.825987  -80.916782   5.713472 -0.102408   \n",
              "2    -3.717948  -11.240356  -14.134387   -1.174510  -1.732131 -0.541682   \n",
              "3    42.876679  -15.288045    1.316740    6.559257  -0.822410 -0.192935   \n",
              "4   -37.650264    5.275625   -0.339670    3.172363  -0.055760 -0.320581   \n",
              "5   -54.782927    9.405414   -1.596464    1.892648  -0.668841  2.555138   \n",
              "6   -18.070799   -1.571184   -0.761940   -1.743374   0.214454  0.562477   \n",
              "7    38.018398  -15.378173   -2.746204    9.627873  22.267641  3.672160   \n",
              "8    57.100680    2.550345    1.114624    2.332867  -1.446275 -0.396611   \n",
              "9    -6.820880   -3.252867    3.674373   -3.453619  -1.092662  1.515798   \n",
              "10   20.576891  -15.635309   -8.937452    0.720802  -0.423352  1.646821   \n",
              "11   34.199369  -10.202618    7.991769    5.295063  -1.602891 -0.229412   \n",
              "12   19.643919  -13.959827   -2.892862   -4.736537   0.919937 -0.464632   \n",
              "13  261.646787  624.780984 -278.085561 -119.876188   9.691886  0.016224   \n",
              "14   42.712215  -13.903536    3.802725    8.014702   1.013245 -0.123889   \n",
              "15  -18.251744    3.336550   10.895285   -2.250945   0.513589  1.602837   \n",
              "16  -28.270340    3.594314    1.402184    4.379154  -1.117168  0.688724   \n",
              "17   54.327025   -1.709960    1.362333    5.012849  -1.632483 -0.193141   \n",
              "18    4.992883  -10.176192   -5.448181   -1.730624  -0.864959  0.543655   \n",
              "19   79.350298   38.369408    8.459004   -2.154494   1.073993 -0.391937   \n",
              "\n",
              "         PC7        PC8       PC9  \n",
              "0  -0.042233  -0.037627 -0.029864  \n",
              "1   0.233942  -7.310100  0.574269  \n",
              "2  -0.876690   0.006043 -0.061950  \n",
              "3   0.080104  -0.019435 -0.005803  \n",
              "4   0.172181   0.020106  0.084160  \n",
              "5  -0.500660  -0.013515  0.080959  \n",
              "6  -0.121955  -0.008774  0.031046  \n",
              "7   1.006598  -0.096373  0.140319  \n",
              "8  -1.027652  -0.363537  0.008592  \n",
              "9   0.013234  -0.031999 -0.065205  \n",
              "10 -0.328054  -0.018109  0.042094  \n",
              "11  0.376664  -0.021515 -0.015764  \n",
              "12 -0.201264  -0.014944 -0.020848  \n",
              "13 -0.148232 -11.208236  1.006965  \n",
              "14  0.023463  -0.025880 -0.007617  \n",
              "15  0.347601  -0.030328  0.021456  \n",
              "16  0.133834   0.000299 -0.028462  \n",
              "17  0.133358  -0.269832 -0.004646  \n",
              "18 -0.311759  -0.015035 -0.057656  \n",
              "19 -1.492140   0.027069 -0.044605  "
            ]
          },
          "execution_count": 129,
          "metadata": {},
          "output_type": "execute_result"
        }
      ],
      "source": [
        "X_test_imp_pca = pca.transform(X_test_full)\n",
        "\n",
        "# Convert to dataframe\n",
        "component_names = [f\"PC{i+1}\" for i in range(X_test_imp_pca.shape[1])]\n",
        "X_test_imp_pca = pd.DataFrame(X_test_imp_pca, columns=component_names)\n",
        "\n",
        "X_test_imp_pca.head(20)"
      ]
    },
    {
      "cell_type": "code",
      "execution_count": 130,
      "metadata": {
        "colab": {
          "base_uri": "https://localhost:8080/",
          "height": 331
        },
        "id": "IP6Nd1GRRX_4",
        "outputId": "3c2d8e66-105c-4870-acc6-82a4ff287985"
      },
      "outputs": [
        {
          "data": {
            "text/html": [
              "\n",
              "  <div id=\"df-91854116-e426-4077-b67c-aac1459850ce\">\n",
              "    <div class=\"colab-df-container\">\n",
              "      <div>\n",
              "<style scoped>\n",
              "    .dataframe tbody tr th:only-of-type {\n",
              "        vertical-align: middle;\n",
              "    }\n",
              "\n",
              "    .dataframe tbody tr th {\n",
              "        vertical-align: top;\n",
              "    }\n",
              "\n",
              "    .dataframe thead th {\n",
              "        text-align: right;\n",
              "    }\n",
              "</style>\n",
              "<table border=\"1\" class=\"dataframe\">\n",
              "  <thead>\n",
              "    <tr style=\"text-align: right;\">\n",
              "      <th></th>\n",
              "      <th>PC1</th>\n",
              "      <th>PC2</th>\n",
              "      <th>PC3</th>\n",
              "      <th>PC4</th>\n",
              "      <th>PC5</th>\n",
              "      <th>PC6</th>\n",
              "      <th>PC7</th>\n",
              "      <th>PC8</th>\n",
              "      <th>PC9</th>\n",
              "    </tr>\n",
              "  </thead>\n",
              "  <tbody>\n",
              "    <tr>\n",
              "      <th>Humidity</th>\n",
              "      <td>-0.276425</td>\n",
              "      <td>-0.268777</td>\n",
              "      <td>-0.858123</td>\n",
              "      <td>0.072408</td>\n",
              "      <td>0.021158</td>\n",
              "      <td>-0.041542</td>\n",
              "      <td>-0.327956</td>\n",
              "      <td>-0.001310</td>\n",
              "      <td>-0.000658</td>\n",
              "    </tr>\n",
              "    <tr>\n",
              "      <th>Wind Speed</th>\n",
              "      <td>0.019277</td>\n",
              "      <td>0.003562</td>\n",
              "      <td>0.007396</td>\n",
              "      <td>0.109056</td>\n",
              "      <td>0.992127</td>\n",
              "      <td>0.035786</td>\n",
              "      <td>0.045027</td>\n",
              "      <td>-0.002040</td>\n",
              "      <td>0.006211</td>\n",
              "    </tr>\n",
              "    <tr>\n",
              "      <th>Dew Point</th>\n",
              "      <td>-0.075545</td>\n",
              "      <td>0.064212</td>\n",
              "      <td>-0.214974</td>\n",
              "      <td>0.658272</td>\n",
              "      <td>-0.105166</td>\n",
              "      <td>0.110636</td>\n",
              "      <td>0.698067</td>\n",
              "      <td>0.005775</td>\n",
              "      <td>-0.001914</td>\n",
              "    </tr>\n",
              "    <tr>\n",
              "      <th>Temperature</th>\n",
              "      <td>0.059075</td>\n",
              "      <td>0.228887</td>\n",
              "      <td>0.208477</td>\n",
              "      <td>0.713423</td>\n",
              "      <td>-0.051192</td>\n",
              "      <td>-0.071824</td>\n",
              "      <td>-0.619532</td>\n",
              "      <td>-0.003906</td>\n",
              "      <td>-0.008406</td>\n",
              "    </tr>\n",
              "    <tr>\n",
              "      <th>Pressure</th>\n",
              "      <td>0.000019</td>\n",
              "      <td>-0.001704</td>\n",
              "      <td>-0.000884</td>\n",
              "      <td>-0.006567</td>\n",
              "      <td>0.006599</td>\n",
              "      <td>-0.000173</td>\n",
              "      <td>0.004996</td>\n",
              "      <td>-0.076046</td>\n",
              "      <td>-0.997046</td>\n",
              "    </tr>\n",
              "    <tr>\n",
              "      <th>Festival</th>\n",
              "      <td>-0.001729</td>\n",
              "      <td>-0.002410</td>\n",
              "      <td>0.003701</td>\n",
              "      <td>-0.022627</td>\n",
              "      <td>-0.026946</td>\n",
              "      <td>0.989676</td>\n",
              "      <td>-0.138298</td>\n",
              "      <td>-0.012427</td>\n",
              "      <td>0.000054</td>\n",
              "    </tr>\n",
              "    <tr>\n",
              "      <th>Lockdown</th>\n",
              "      <td>0.004379</td>\n",
              "      <td>0.014403</td>\n",
              "      <td>-0.005183</td>\n",
              "      <td>-0.004516</td>\n",
              "      <td>0.002876</td>\n",
              "      <td>0.011437</td>\n",
              "      <td>-0.008023</td>\n",
              "      <td>0.996865</td>\n",
              "      <td>-0.076046</td>\n",
              "    </tr>\n",
              "    <tr>\n",
              "      <th>Covid-Case</th>\n",
              "      <td>0.251105</td>\n",
              "      <td>0.873771</td>\n",
              "      <td>-0.372800</td>\n",
              "      <td>-0.184243</td>\n",
              "      <td>0.014576</td>\n",
              "      <td>0.001044</td>\n",
              "      <td>0.007904</td>\n",
              "      <td>-0.016381</td>\n",
              "      <td>0.001441</td>\n",
              "    </tr>\n",
              "    <tr>\n",
              "      <th>Days</th>\n",
              "      <td>0.922467</td>\n",
              "      <td>-0.327937</td>\n",
              "      <td>-0.186743</td>\n",
              "      <td>0.077772</td>\n",
              "      <td>-0.023759</td>\n",
              "      <td>0.001981</td>\n",
              "      <td>-0.004746</td>\n",
              "      <td>0.000078</td>\n",
              "      <td>0.000044</td>\n",
              "    </tr>\n",
              "  </tbody>\n",
              "</table>\n",
              "</div>\n",
              "      <button class=\"colab-df-convert\" onclick=\"convertToInteractive('df-91854116-e426-4077-b67c-aac1459850ce')\"\n",
              "              title=\"Convert this dataframe to an interactive table.\"\n",
              "              style=\"display:none;\">\n",
              "        \n",
              "  <svg xmlns=\"http://www.w3.org/2000/svg\" height=\"24px\"viewBox=\"0 0 24 24\"\n",
              "       width=\"24px\">\n",
              "    <path d=\"M0 0h24v24H0V0z\" fill=\"none\"/>\n",
              "    <path d=\"M18.56 5.44l.94 2.06.94-2.06 2.06-.94-2.06-.94-.94-2.06-.94 2.06-2.06.94zm-11 1L8.5 8.5l.94-2.06 2.06-.94-2.06-.94L8.5 2.5l-.94 2.06-2.06.94zm10 10l.94 2.06.94-2.06 2.06-.94-2.06-.94-.94-2.06-.94 2.06-2.06.94z\"/><path d=\"M17.41 7.96l-1.37-1.37c-.4-.4-.92-.59-1.43-.59-.52 0-1.04.2-1.43.59L10.3 9.45l-7.72 7.72c-.78.78-.78 2.05 0 2.83L4 21.41c.39.39.9.59 1.41.59.51 0 1.02-.2 1.41-.59l7.78-7.78 2.81-2.81c.8-.78.8-2.07 0-2.86zM5.41 20L4 18.59l7.72-7.72 1.47 1.35L5.41 20z\"/>\n",
              "  </svg>\n",
              "      </button>\n",
              "      \n",
              "  <style>\n",
              "    .colab-df-container {\n",
              "      display:flex;\n",
              "      flex-wrap:wrap;\n",
              "      gap: 12px;\n",
              "    }\n",
              "\n",
              "    .colab-df-convert {\n",
              "      background-color: #E8F0FE;\n",
              "      border: none;\n",
              "      border-radius: 50%;\n",
              "      cursor: pointer;\n",
              "      display: none;\n",
              "      fill: #1967D2;\n",
              "      height: 32px;\n",
              "      padding: 0 0 0 0;\n",
              "      width: 32px;\n",
              "    }\n",
              "\n",
              "    .colab-df-convert:hover {\n",
              "      background-color: #E2EBFA;\n",
              "      box-shadow: 0px 1px 2px rgba(60, 64, 67, 0.3), 0px 1px 3px 1px rgba(60, 64, 67, 0.15);\n",
              "      fill: #174EA6;\n",
              "    }\n",
              "\n",
              "    [theme=dark] .colab-df-convert {\n",
              "      background-color: #3B4455;\n",
              "      fill: #D2E3FC;\n",
              "    }\n",
              "\n",
              "    [theme=dark] .colab-df-convert:hover {\n",
              "      background-color: #434B5C;\n",
              "      box-shadow: 0px 1px 3px 1px rgba(0, 0, 0, 0.15);\n",
              "      filter: drop-shadow(0px 1px 2px rgba(0, 0, 0, 0.3));\n",
              "      fill: #FFFFFF;\n",
              "    }\n",
              "  </style>\n",
              "\n",
              "      <script>\n",
              "        const buttonEl =\n",
              "          document.querySelector('#df-91854116-e426-4077-b67c-aac1459850ce button.colab-df-convert');\n",
              "        buttonEl.style.display =\n",
              "          google.colab.kernel.accessAllowed ? 'block' : 'none';\n",
              "\n",
              "        async function convertToInteractive(key) {\n",
              "          const element = document.querySelector('#df-91854116-e426-4077-b67c-aac1459850ce');\n",
              "          const dataTable =\n",
              "            await google.colab.kernel.invokeFunction('convertToInteractive',\n",
              "                                                     [key], {});\n",
              "          if (!dataTable) return;\n",
              "\n",
              "          const docLinkHtml = 'Like what you see? Visit the ' +\n",
              "            '<a target=\"_blank\" href=https://colab.research.google.com/notebooks/data_table.ipynb>data table notebook</a>'\n",
              "            + ' to learn more about interactive tables.';\n",
              "          element.innerHTML = '';\n",
              "          dataTable['output_type'] = 'display_data';\n",
              "          await google.colab.output.renderOutput(dataTable, element);\n",
              "          const docLink = document.createElement('div');\n",
              "          docLink.innerHTML = docLinkHtml;\n",
              "          element.appendChild(docLink);\n",
              "        }\n",
              "      </script>\n",
              "    </div>\n",
              "  </div>\n",
              "  "
            ],
            "text/plain": [
              "                  PC1       PC2       PC3       PC4       PC5       PC6  \\\n",
              "Humidity    -0.276425 -0.268777 -0.858123  0.072408  0.021158 -0.041542   \n",
              "Wind Speed   0.019277  0.003562  0.007396  0.109056  0.992127  0.035786   \n",
              "Dew Point   -0.075545  0.064212 -0.214974  0.658272 -0.105166  0.110636   \n",
              "Temperature  0.059075  0.228887  0.208477  0.713423 -0.051192 -0.071824   \n",
              "Pressure     0.000019 -0.001704 -0.000884 -0.006567  0.006599 -0.000173   \n",
              "Festival    -0.001729 -0.002410  0.003701 -0.022627 -0.026946  0.989676   \n",
              "Lockdown     0.004379  0.014403 -0.005183 -0.004516  0.002876  0.011437   \n",
              "Covid-Case   0.251105  0.873771 -0.372800 -0.184243  0.014576  0.001044   \n",
              "Days         0.922467 -0.327937 -0.186743  0.077772 -0.023759  0.001981   \n",
              "\n",
              "                  PC7       PC8       PC9  \n",
              "Humidity    -0.327956 -0.001310 -0.000658  \n",
              "Wind Speed   0.045027 -0.002040  0.006211  \n",
              "Dew Point    0.698067  0.005775 -0.001914  \n",
              "Temperature -0.619532 -0.003906 -0.008406  \n",
              "Pressure     0.004996 -0.076046 -0.997046  \n",
              "Festival    -0.138298 -0.012427  0.000054  \n",
              "Lockdown    -0.008023  0.996865 -0.076046  \n",
              "Covid-Case   0.007904 -0.016381  0.001441  \n",
              "Days        -0.004746  0.000078  0.000044  "
            ]
          },
          "execution_count": 130,
          "metadata": {},
          "output_type": "execute_result"
        }
      ],
      "source": [
        "loadings = pd.DataFrame(\n",
        "    pca.components_.T,  # transpose the matrix of loadings\n",
        "    columns=component_names,  # so the columns are the principal components\n",
        "    index=X_train_2.columns,  # and the rows are the original features\n",
        ")\n",
        "loadings"
      ]
    },
    {
      "cell_type": "code",
      "execution_count": 131,
      "metadata": {
        "colab": {
          "base_uri": "https://localhost:8080/",
          "height": 472
        },
        "id": "PnICfFbsRnPn",
        "outputId": "d36099c0-28ff-483c-e391-00207cce5851"
      },
      "outputs": [
        {
          "data": {
            "image/png": "[encoded data removed]",
            "text/plain": [
              "<Figure size 800x480 with 2 Axes>"
            ]
          },
          "metadata": {},
          "output_type": "display_data"
        }
      ],
      "source": [
        "def plot_variance(pca, width=8, dpi=100):\n",
        "    # Create figure\n",
        "    fig, axs = plt.subplots(1, 2)\n",
        "    n = pca.n_components_\n",
        "    grid = np.arange(1, n + 1)\n",
        "    # Explained variance\n",
        "    evr = pca.explained_variance_ratio_\n",
        "    axs[0].bar(grid, evr)\n",
        "    axs[0].set(\n",
        "        xlabel=\"Component\", title=\"% Explained Variance\", ylim=(0.0, 1.0)\n",
        "    )\n",
        "    # Cumulative Variance\n",
        "    cv = np.cumsum(evr)\n",
        "    axs[1].plot(np.r_[0, grid], np.r_[0, cv], \"o-\")\n",
        "    axs[1].set(\n",
        "        xlabel=\"Component\", title=\"% Cumulative Variance\", ylim=(0.0, 1.0)\n",
        "    )\n",
        "    # Set up figure\n",
        "    fig.set(figwidth=8, dpi=100)\n",
        "    return axs\n",
        "\n",
        "plot_variance(pca);"
      ]
    },
    {
      "cell_type": "code",
      "execution_count": 132,
      "metadata": {
        "colab": {
          "base_uri": "https://localhost:8080/"
        },
        "id": "QSWAwFbgRnzy",
        "outputId": "be4a6c41-65f7-4090-a94e-40b82c0f9f04"
      },
      "outputs": [
        {
          "name": "stdout",
          "output_type": "stream",
          "text": [
            "PC2    0.364587\n",
            "PC1    0.362264\n",
            "PC4    0.257496\n",
            "PC6    0.211468\n",
            "PC8    0.122342\n",
            "PC9    0.022506\n",
            "PC7    0.005720\n",
            "PC3    0.000000\n",
            "PC5    0.000000\n",
            "Name: MI Scores, dtype: float64\n"
          ]
        }
      ],
      "source": [
        "MI_2=mutual_info_regression(X_train_imp_pca,y_train_2,random_state=0)\n",
        "MI_2 = pd.Series(MI_2, name=\"MI Scores\", index=X_train_imp_pca.columns)\n",
        "MI_2 = MI_2.sort_values(ascending=False)\n",
        "\n",
        "print(MI_2)"
      ]
    },
    {
      "cell_type": "code",
      "execution_count": 133,
      "metadata": {
        "colab": {
          "base_uri": "https://localhost:8080/"
        },
        "id": "xjXWTCjLUHTW",
        "outputId": "fca44e83-0d07-4571-ab18-7aff73997ad6"
      },
      "outputs": [
        {
          "data": {
            "text/plain": [
              "Index(['PC1', 'PC2', 'PC3', 'PC4', 'PC5', 'PC6', 'PC7', 'PC8', 'PC9'], dtype='object')"
            ]
          },
          "execution_count": 133,
          "metadata": {},
          "output_type": "execute_result"
        }
      ],
      "source": [
        "X_train_imp_pca.columns"
      ]
    },
    {
      "attachments": {},
      "cell_type": "markdown",
      "metadata": {
        "id": "oaWoapZLSTFu"
      },
      "source": [
        "### Testing out PCA features"
      ]
    },
    {
      "cell_type": "code",
      "execution_count": 134,
      "metadata": {
        "colab": {
          "base_uri": "https://localhost:8080/"
        },
        "id": "1ysg5tzvSViv",
        "outputId": "c87e423e-e2de-476e-8177-68a1d7bd43a8"
      },
      "outputs": [
        {
          "name": "stdout",
          "output_type": "stream",
          "text": [
            "[ 82.848 105.97  138.924  89.116  94.292  94.168 150.468  94.03   90.41\n",
            " 149.222 146.122  99.07  155.2   106.414  87.374  92.714  75.596  84.06\n",
            " 150.236  93.01  152.28   97.436 107.174 147.004 106.202  96.65  106.392\n",
            " 146.304 151.002 144.76  103.72  106.242  90.2   119.174  83.52  150.428\n",
            "  96.88  105.774  73.81  104.032 104.362 150.416  82.652 155.746 112.15\n",
            " 104.362]\n",
            "0.5687651439643082\n"
          ]
        }
      ],
      "source": [
        "model1.fit(X_train_imp_pca,y_train_2)\n",
        "\n",
        "pred_pca=model1.predict(X_test_imp_pca)\n",
        "\n",
        "print(pred_pca)\n",
        "\n",
        "r2_pca=r2_score(y_test, pred_pca)\n",
        "print(r2_pca)\n"
      ]
    },
    {
      "attachments": {},
      "cell_type": "markdown",
      "metadata": {
        "id": "Ly-nveTMS_wb"
      },
      "source": [
        "## Testing out combinations of both"
      ]
    },
    {
      "cell_type": "code",
      "execution_count": 135,
      "metadata": {
        "colab": {
          "base_uri": "https://localhost:8080/"
        },
        "id": "MxfcM11RTCOe",
        "outputId": "8cd9280c-b78b-464a-a014-2c8cf242337f"
      },
      "outputs": [
        {
          "name": "stdout",
          "output_type": "stream",
          "text": [
            "<class 'pandas.core.frame.DataFrame'>\n",
            "Int64Index: 46 entries, 26 to 150\n",
            "Data columns (total 18 columns):\n",
            " #   Column       Non-Null Count  Dtype  \n",
            "---  ------       --------------  -----  \n",
            " 0   Humidity     46 non-null     float64\n",
            " 1   Wind Speed   46 non-null     float64\n",
            " 2   Dew Point    46 non-null     float64\n",
            " 3   Temperature  46 non-null     float64\n",
            " 4   Pressure     46 non-null     float64\n",
            " 5   Festival     46 non-null     int64  \n",
            " 6   Lockdown     46 non-null     int64  \n",
            " 7   Covid-Case   46 non-null     int64  \n",
            " 8   Days         46 non-null     int64  \n",
            " 9   PC1          14 non-null     float64\n",
            " 10  PC2          14 non-null     float64\n",
            " 11  PC3          14 non-null     float64\n",
            " 12  PC4          14 non-null     float64\n",
            " 13  PC5          14 non-null     float64\n",
            " 14  PC6          14 non-null     float64\n",
            " 15  PC7          14 non-null     float64\n",
            " 16  PC8          14 non-null     float64\n",
            " 17  PC9          14 non-null     float64\n",
            "dtypes: float64(14), int64(4)\n",
            "memory usage: 6.8 KB\n",
            "None\n"
          ]
        }
      ],
      "source": [
        "pca_features=['PC1', 'PC2', 'PC3', 'PC4', 'PC5', 'PC6', 'PC7', 'PC8', 'PC9']\n",
        "\n",
        "X_train_new=X_train_2.copy()\n",
        "X_train_new[pca_features]=X_train_imp_pca[pca_features]\n",
        "\n",
        "X_test_new=X_test_full.copy()\n",
        "X_test_new[pca_features]=X_test_imp_pca[pca_features]\n",
        "\n",
        "print(X_test_new.info())"
      ]
    },
    {
      "cell_type": "code",
      "execution_count": 136,
      "metadata": {
        "colab": {
          "base_uri": "https://localhost:8080/"
        },
        "id": "6cP8G92SzJWW",
        "outputId": "84871d5a-c539-4178-a77f-25c33d1999cb"
      },
      "outputs": [
        {
          "name": "stdout",
          "output_type": "stream",
          "text": [
            "<class 'pandas.core.frame.DataFrame'>\n",
            "RangeIndex: 46 entries, 0 to 45\n",
            "Data columns (total 18 columns):\n",
            " #   Column       Non-Null Count  Dtype  \n",
            "---  ------       --------------  -----  \n",
            " 0   Humidity     46 non-null     float64\n",
            " 1   Wind Speed   46 non-null     float64\n",
            " 2   Dew Point    46 non-null     float64\n",
            " 3   Temperature  46 non-null     float64\n",
            " 4   Pressure     46 non-null     float64\n",
            " 5   Festival     46 non-null     float64\n",
            " 6   Lockdown     46 non-null     float64\n",
            " 7   Covid-Case   46 non-null     float64\n",
            " 8   Days         46 non-null     float64\n",
            " 9   PC1          46 non-null     float64\n",
            " 10  PC2          46 non-null     float64\n",
            " 11  PC3          46 non-null     float64\n",
            " 12  PC4          46 non-null     float64\n",
            " 13  PC5          46 non-null     float64\n",
            " 14  PC6          46 non-null     float64\n",
            " 15  PC7          46 non-null     float64\n",
            " 16  PC8          46 non-null     float64\n",
            " 17  PC9          46 non-null     float64\n",
            "dtypes: float64(18)\n",
            "memory usage: 6.6 KB\n",
            "None\n"
          ]
        }
      ],
      "source": [
        "imputer=KNNImputer(n_neighbors=10)\n",
        "\n",
        "X_train_3=pd.DataFrame(imputer.fit_transform(X_train_new))\n",
        "X_test_3=pd.DataFrame(imputer.transform(X_test_new))\n",
        "\n",
        "X_train_3.columns=X_train_new.columns\n",
        "X_test_3.columns=X_test_new.columns\n",
        "\n",
        "print(X_test_3.info())"
      ]
    },
    {
      "cell_type": "code",
      "execution_count": 137,
      "metadata": {
        "colab": {
          "base_uri": "https://localhost:8080/"
        },
        "id": "jocvznP4T2AT",
        "outputId": "b46d89a6-cce9-4187-89f8-5a4b71788adb"
      },
      "outputs": [
        {
          "name": "stdout",
          "output_type": "stream",
          "text": [
            "[ 97.182  95.53  150.614  92.268  80.66   81.152 143.594  94.436  93.042\n",
            " 150.456 153.476 113.09  152.006  99.18   89.674 135.234  90.92   91.716\n",
            " 151.81  101.526 149.106  97.772 105.582 153.806 127.82  104.796 105.402\n",
            " 145.802 155.302 152.492  85.744  98.276  93.018 115.204  96.726 156.338\n",
            " 110.856  96.356  87.19   92.82   98.764 133.958 102.256 155.252  82.346\n",
            "  91.302]\n",
            "0.6593725617718333\n"
          ]
        }
      ],
      "source": [
        "model1.fit(X_train_3,y_train_2)\n",
        "\n",
        "pred_new=model1.predict(X_test_3)\n",
        "\n",
        "print(pred_new)\n",
        "\n",
        "r2_new=r2_score(y_test, pred_new)\n",
        "print(r2_new)\n"
      ]
    },
    {
      "cell_type": "code",
      "execution_count": 138,
      "metadata": {
        "colab": {
          "base_uri": "https://localhost:8080/"
        },
        "id": "KpDGmPYU0K6v",
        "outputId": "32ebb2aa-e76a-4fe4-f368-44f000b5211f"
      },
      "outputs": [
        {
          "name": "stdout",
          "output_type": "stream",
          "text": [
            "<class 'pandas.core.frame.DataFrame'>\n",
            "RangeIndex: 86 entries, 0 to 85\n",
            "Data columns (total 7 columns):\n",
            " #   Column      Non-Null Count  Dtype  \n",
            "---  ------      --------------  -----  \n",
            " 0   PC1         86 non-null     float64\n",
            " 1   PC2         86 non-null     float64\n",
            " 2   Days        86 non-null     float64\n",
            " 3   Humidity    86 non-null     float64\n",
            " 4   Dew Point   86 non-null     float64\n",
            " 5   Wind Speed  86 non-null     float64\n",
            " 6   Lockdown    86 non-null     float64\n",
            "dtypes: float64(7)\n",
            "memory usage: 4.8 KB\n",
            "None\n"
          ]
        }
      ],
      "source": [
        "select_features=[\"PC1\",\"PC2\",\"Days\",\"Humidity\",\"Dew Point\",\"Wind Speed\",\"Lockdown\"]\n",
        "X_train_4=X_train_3[select_features]\n",
        "X_test_4=X_test_3[select_features]\n",
        "print(X_train_4.info())"
      ]
    },
    {
      "cell_type": "code",
      "execution_count": 139,
      "metadata": {
        "colab": {
          "base_uri": "https://localhost:8080/"
        },
        "id": "651URXL427PA",
        "outputId": "d0b13e59-5596-49c3-be59-5750bd7123c6"
      },
      "outputs": [
        {
          "name": "stdout",
          "output_type": "stream",
          "text": [
            "[ 82.682  97.16  151.98   89.326  70.65   95.734 153.304  95.708  91.808\n",
            " 150.888 151.082 128.652 147.916  98.252  88.01  145.266  88.322  90.442\n",
            " 152.27   89.322 147.256 103.238  96.99  152.438 144.75  113.89   96.808\n",
            " 154.89  146.356 155.3    84.788  97.644  90.002 130.464  85.596 154.008\n",
            " 122.032  96.398  96.402  90.318  98.922 149.414 104.752 155.078  77.084\n",
            "  91.254]\n",
            "0.7106696991974677\n"
          ]
        }
      ],
      "source": [
        "model1.fit(X_train_4,y_train_2)\n",
        "\n",
        "pred_new2=model1.predict(X_test_4)\n",
        "\n",
        "print(pred_new2)\n",
        "\n",
        "r2_new2=r2_score(y_test, pred_new2)\n",
        "print(r2_new2)\n"
      ]
    },
    {
      "attachments": {},
      "cell_type": "markdown",
      "metadata": {
        "id": "MpGGQ8YU7F8p"
      },
      "source": [
        "### Considering the marginal difference in R2 value of prediction 1 and prediction above (about 0.004) with lesser features( 9 vs 7), we'll be moving on with above version of data"
      ]
    },
    {
      "attachments": {},
      "cell_type": "markdown",
      "metadata": {
        "id": "Oq2m0vIV8QII"
      },
      "source": [
        "## Clustering\n",
        "\n",
        "### We'll be using HDBSCAN to try to find interesting clustering properties which might be easier for the model to learn, meaning clustering could help increase our model accuracy"
      ]
    },
    {
      "cell_type": "code",
      "execution_count": 140,
      "metadata": {
        "colab": {
          "base_uri": "https://localhost:8080/"
        },
        "id": "pQXE8M228Z-R",
        "outputId": "2f17e63a-7e50-45b3-8ac8-1595dc78f45e"
      },
      "outputs": [
        {
          "name": "stdout",
          "output_type": "stream",
          "text": [
            "Looking in indexes: https://pypi.org/simple, https://us-python.pkg.dev/colab-wheels/public/simple/\n",
            "Requirement already satisfied: hdbscan in /usr/local/lib/python3.10/dist-packages (0.8.29)\n",
            "Requirement already satisfied: cython>=0.27 in /usr/local/lib/python3.10/dist-packages (from hdbscan) (0.29.34)\n",
            "Requirement already satisfied: numpy>=1.20 in /usr/local/lib/python3.10/dist-packages (from hdbscan) (1.22.4)\n",
            "Requirement already satisfied: scipy>=1.0 in /usr/local/lib/python3.10/dist-packages (from hdbscan) (1.10.1)\n",
            "Requirement already satisfied: scikit-learn>=0.20 in /usr/local/lib/python3.10/dist-packages (from hdbscan) (1.2.2)\n",
            "Requirement already satisfied: joblib>=1.0 in /usr/local/lib/python3.10/dist-packages (from hdbscan) (1.2.0)\n",
            "Requirement already satisfied: threadpoolctl>=2.0.0 in /usr/local/lib/python3.10/dist-packages (from scikit-learn>=0.20->hdbscan) (3.1.0)\n"
          ]
        }
      ],
      "source": [
        "pip install hdbscan"
      ]
    },
    {
      "attachments": {},
      "cell_type": "markdown",
      "metadata": {
        "id": "p0otoWaCCGEZ"
      },
      "source": [
        "### Let min_samples be 2 and min_cluster_size be 9"
      ]
    },
    {
      "cell_type": "code",
      "execution_count": 141,
      "metadata": {
        "colab": {
          "base_uri": "https://localhost:8080/"
        },
        "id": "FxMz12JZ9QZS",
        "outputId": "d3f5d5ae-df7c-4fe2-e85c-377cb20abd88"
      },
      "outputs": [
        {
          "name": "stdout",
          "output_type": "stream",
          "text": [
            "0.40201677893650345\n"
          ]
        }
      ],
      "source": [
        "import hdbscan\n",
        "from sklearn.metrics import silhouette_score\n",
        "\n",
        "clusterer = hdbscan.HDBSCAN(min_samples=2, min_cluster_size=9)\n",
        "cluster_labels = clusterer.fit_predict(X_train_4)\n",
        "score=silhouette_score(X_train_4, cluster_labels)\n",
        "print(score)"
      ]
    },
    {
      "cell_type": "code",
      "execution_count": 142,
      "metadata": {
        "id": "QFIIKd0OBF8o"
      },
      "outputs": [],
      "source": [
        "cluster_labelst=clusterer.fit_predict(X_test_4)\n"
      ]
    },
    {
      "cell_type": "code",
      "execution_count": 143,
      "metadata": {
        "colab": {
          "base_uri": "https://localhost:8080/"
        },
        "id": "pKy-7q1J_6-2",
        "outputId": "8a2642c3-54ee-4c34-b7af-22ace3f3c4d2"
      },
      "outputs": [
        {
          "name": "stdout",
          "output_type": "stream",
          "text": [
            "         PC1        PC2   Days  Humidity  Dew Point  Wind Speed  Lockdown  \\\n",
            "0  17.395689 -13.156271   73.0      69.5       67.2         3.2       0.0   \n",
            "1 -16.817718   0.633434    2.0      82.0       75.3         3.7       0.0   \n",
            "2 -17.049323   1.730489   43.0      70.9       67.9         4.7       0.0   \n",
            "3  14.848587 -11.973371   10.0      83.4       73.3         3.2       0.0   \n",
            "4   8.298200  -4.283598   96.0      55.1       64.4         3.9       0.0   \n",
            "5   8.298200  -4.283598  121.0      41.5       65.8         5.1       1.0   \n",
            "6   2.445169  -7.935553   61.0      80.7       71.7         5.5       0.0   \n",
            "7  13.666677 -11.828420   71.0      69.6       65.7         2.2       0.0   \n",
            "8 -11.381480   1.675532   85.0      72.7       68.2         5.7       0.0   \n",
            "9 -29.757209   3.235682   62.0      86.3       71.1         5.8       0.0   \n",
            "\n",
            "   Cluster  \n",
            "0        2  \n",
            "1        0  \n",
            "2        2  \n",
            "3        0  \n",
            "4        2  \n",
            "5        2  \n",
            "6        2  \n",
            "7        2  \n",
            "8        2  \n",
            "9        2  \n"
          ]
        }
      ],
      "source": [
        "X_train_5=X_train_4.copy()\n",
        "X_train_5[\"Cluster\"]=cluster_labels\n",
        "\n",
        "print(X_train_5.head(10))"
      ]
    },
    {
      "cell_type": "code",
      "execution_count": 144,
      "metadata": {
        "colab": {
          "base_uri": "https://localhost:8080/"
        },
        "id": "-_Y3IUI1BRnk",
        "outputId": "0b0b1ba5-9623-45ef-8847-a321a2fa6897"
      },
      "outputs": [
        {
          "name": "stdout",
          "output_type": "stream",
          "text": [
            "          PC1         PC2   Days  Humidity  Dew Point  Wind Speed  Lockdown  \\\n",
            "0  237.960959  528.597873   26.0      77.3       75.7         4.1       0.0   \n",
            "1    8.298200   -4.283598  135.0      40.0       64.0         5.6       1.0   \n",
            "2  -22.358525   -0.308619   63.0      88.4       71.3         2.4       0.0   \n",
            "3    8.298200   -4.283598  105.0      63.6       69.9         5.2       0.0   \n",
            "4  -22.571736    3.652655   24.0      81.5       75.4         4.1       0.0   \n",
            "5   38.018398  -15.378173    7.0      86.2       76.3         3.1       0.0   \n",
            "6  -33.709368    1.202338   44.0      78.0       70.2         4.2       0.0   \n",
            "7    4.420502   -2.739647  101.0      68.7       71.8        28.5       0.0   \n",
            "8    8.298200   -4.283598  112.0      55.1       66.5         4.4       0.0   \n",
            "9   -8.203371    2.279750   54.0      71.3       67.5         3.0       0.0   \n",
            "\n",
            "   Cluster  \n",
            "0       -1  \n",
            "1       -1  \n",
            "2       -1  \n",
            "3       -1  \n",
            "4       -1  \n",
            "5       -1  \n",
            "6       -1  \n",
            "7       -1  \n",
            "8       -1  \n",
            "9       -1  \n"
          ]
        }
      ],
      "source": [
        "X_test_5=X_test_4.copy()\n",
        "X_test_5[\"Cluster\"]=cluster_labelst\n",
        "\n",
        "print(X_test_5.head(10))"
      ]
    },
    {
      "cell_type": "code",
      "execution_count": 145,
      "metadata": {
        "colab": {
          "base_uri": "https://localhost:8080/"
        },
        "id": "3m0RkfEzAV6m",
        "outputId": "7a39ef94-8dd7-48ed-937a-f0740e8ccd9b"
      },
      "outputs": [
        {
          "name": "stdout",
          "output_type": "stream",
          "text": [
            "Days          0.427050\n",
            "Humidity      0.296656\n",
            "Wind Speed    0.143110\n",
            "Dew Point     0.101905\n",
            "PC2           0.090297\n",
            "Cluster       0.088949\n",
            "PC1           0.085998\n",
            "Lockdown      0.076277\n",
            "Name: MI Scores, dtype: float64\n"
          ]
        }
      ],
      "source": [
        "MI_3=mutual_info_regression(X_train_5,y_train_2,random_state=0)\n",
        "MI_3 = pd.Series(MI_3, name=\"MI Scores\", index=X_train_5.columns)\n",
        "MI_3 = MI_3.sort_values(ascending=False)\n",
        "\n",
        "print(MI_3)"
      ]
    },
    {
      "cell_type": "code",
      "execution_count": 146,
      "metadata": {
        "colab": {
          "base_uri": "https://localhost:8080/"
        },
        "id": "FHNaEsjBA-7v",
        "outputId": "722ab667-79d9-4354-9a15-c5698f51e6e1"
      },
      "outputs": [
        {
          "name": "stdout",
          "output_type": "stream",
          "text": [
            "[ 82.664  97.116 152.124  89.63   71.416  95.814 153.256  95.82   92.344\n",
            " 151.59  150.638 128.814 148.426  98.146  87.498 145.426  88.164  90.758\n",
            " 152.084  89.578 148.132 103.662  97.314 152.734 144.116 113.58   97.014\n",
            " 154.978 145.972 155.534  86.     97.184  90.366 130.132  85.864 154.172\n",
            " 121.506  96.694  97.238  90.164  98.932 149.708 104.288 155.042  78.33\n",
            "  90.658]\n",
            "0.7142276216814655\n"
          ]
        }
      ],
      "source": [
        "model1.fit(X_train_5,y_train_2)\n",
        "\n",
        "pred_5=model1.predict(X_test_5)\n",
        "\n",
        "print(pred_5)\n",
        "\n",
        "r2_5=r2_score(y_test, pred_5)\n",
        "print(r2_5)\n"
      ]
    },
    {
      "cell_type": "code",
      "execution_count": 147,
      "metadata": {
        "id": "A0S7mLuoCyD2"
      },
      "outputs": [],
      "source": [
        "feature_list=[\"Days\",\"Wind Speed\",\"Dew Point\",\"Cluster\"]\n",
        "X_train_6=X_train_5[feature_list]\n",
        "X_test_6=X_test_5[feature_list]"
      ]
    },
    {
      "cell_type": "code",
      "execution_count": 148,
      "metadata": {
        "colab": {
          "base_uri": "https://localhost:8080/"
        },
        "id": "yQCuEmuYC0rd",
        "outputId": "569c29c4-6672-48ce-e421-11988fcb590e"
      },
      "outputs": [
        {
          "name": "stdout",
          "output_type": "stream",
          "text": [
            "[ 83.548  96.56  154.406  88.244  85.65   97.634 148.5    94.986  89.318\n",
            " 155.672 147.574 131.434 149.128  97.874  85.522 144.556  80.07   87.62\n",
            " 155.744  89.116 149.73  115.144  96.59  151.952 148.246 111.896  96.358\n",
            " 154.676 147.182 158.236  99.386  98.476  90.28  134.066  87.42  155.774\n",
            " 124.11   95.528  78.25   88.626  99.03  151.302  89.976 157.08   90.644\n",
            "  87.982]\n",
            "0.7705081332647635\n"
          ]
        }
      ],
      "source": [
        "model1.fit(X_train_6,y_train_2)\n",
        "\n",
        "pred_6=model1.predict(X_test_6)\n",
        "\n",
        "print(pred_6)\n",
        "\n",
        "r2_6=r2_score(y_test, pred_6)\n",
        "print(r2_6)\n"
      ]
    },
    {
      "attachments": {},
      "cell_type": "markdown",
      "metadata": {
        "id": "bjYNX9SkDopZ"
      },
      "source": [
        "### We've made changes so far to slowly increase model performance by performing operations on data. Now, we'll shift to working on the model"
      ]
    },
    {
      "attachments": {},
      "cell_type": "markdown",
      "metadata": {
        "id": "HbE0F2h0EBwT"
      },
      "source": [
        "## Randomized Search\n",
        "\n",
        "### In this section, we'll be performing a randomized search via RandomizedSearchCV to find ideal model hyperparametrs for our dataset"
      ]
    },
    {
      "cell_type": "code",
      "execution_count": 149,
      "metadata": {
        "colab": {
          "base_uri": "https://localhost:8080/",
          "height": 278
        },
        "id": "BDZCxvcCEpR9",
        "outputId": "7df419ca-68aa-4d1d-d6b3-cb8de3c94028"
      },
      "outputs": [
        {
          "name": "stdout",
          "output_type": "stream",
          "text": [
            "Best Parameters: {'n_estimators': 1500}\n",
            "Best Score: 0.6324985444917559\n",
            "[ 82.45933333  96.59466667 154.496       88.254       84.58\n",
            "  96.432      148.66666667  94.682       89.772      156.008\n",
            " 147.822      129.838      149.71533333  98.39933333  84.938\n",
            " 144.99266667  79.218       87.606      156.20066667  88.51666667\n",
            " 150.502      114.65066667  96.9        151.80333333 148.75533333\n",
            " 110.372       96.44933333 155.05933333 147.544      158.594\n",
            "  99.80666667  98.67133333  90.22666667 133.218       88.15333333\n",
            " 155.40133333 122.91466667  95.61733333  77.71866667  88.256\n",
            "  99.21666667 151.69        90.286      157.35333333  91.72666667\n",
            "  87.456     ]\n",
            "0.7734946466923613\n"
          ]
        },
        {
          "data": {
            "application/vnd.google.colaboratory.intrinsic+json": {
              "type": "string"
            },
            "text/plain": [
              "\" Run 1 : Best Parameters: {'n_estimators': 900}, r2=0.7735902209595334\\n    Run 2 : Best Parameters: {'n_estimators': 1200},r2=0.773713872130722\\n    Runn 3: Best Parameters: {'n_estimators': 1500},r2=0.7734946466923613\\n\""
            ]
          },
          "execution_count": 149,
          "metadata": {},
          "output_type": "execute_result"
        }
      ],
      "source": [
        "from sklearn.model_selection import RandomizedSearchCV\n",
        "\n",
        "param_grid = {\n",
        "    'n_estimators': [500,600,700,800,900,1000,1100,1200,1300,1400,1500]\n",
        "}\n",
        "\n",
        "modelfinal=RandomForestRegressor(random_state=0)\n",
        "\n",
        "\n",
        "random_search = RandomizedSearchCV(modelfinal, param_distributions=param_grid, n_iter=10, cv=5,scoring='r2',random_state=0)\n",
        "random_search.fit(X_train_6, y_train_2)\n",
        "\n",
        "print(\"Best Parameters:\", random_search.best_params_)\n",
        "print(\"Best Score:\", random_search.best_score_)\n",
        "\n",
        "# Make predictions using the best model\n",
        "best_model = random_search.best_estimator_\n",
        "\n",
        "best_model.fit(X_train_6, y_train_2)\n",
        "\n",
        "predfinal=best_model.predict(X_test_6)\n",
        "\n",
        "print(predfinal)\n",
        "\n",
        "\n",
        "r2_final=r2_score(y_test, predfinal)\n",
        "print(r2_final)\n",
        "\n",
        "''' Run 1 : Best Parameters: {'n_estimators': 900}, r2=0.7735902209595334\n",
        "    Run 2 : Best Parameters: {'n_estimators': 1200},r2=0.773713872130722\n",
        "    Runn 3: Best Parameters: {'n_estimators': 1500},r2=0.7734946466923613\n",
        "'''"
      ]
    },
    {
      "attachments": {},
      "cell_type": "markdown",
      "metadata": {
        "id": "rMmi70WKUdYN"
      },
      "source": [
        "## Hence, the required model and the final result we obtain are :"
      ]
    },
    {
      "cell_type": "code",
      "execution_count": 150,
      "metadata": {
        "colab": {
          "base_uri": "https://localhost:8080/"
        },
        "id": "pv4W4JulP-HM",
        "outputId": "2ce3fb11-e24b-4fbc-e03f-161b36ae656b"
      },
      "outputs": [
        {
          "name": "stdout",
          "output_type": "stream",
          "text": [
            "[ 82.39        96.39666667 154.6975      88.2675      84.665\n",
            "  96.6175     148.71416667  94.72916667  89.845      156.0525\n",
            " 148.12916667 129.4225     149.49833333  98.25916667  84.95333333\n",
            " 144.85916667  79.63833333  87.64416667 155.99666667  88.54333333\n",
            " 150.21666667 114.83666667  96.65083333 151.90833333 148.7375\n",
            " 110.30916667  96.35166667 155.17       147.50583333 158.62333333\n",
            " 100.095       98.54833333  90.34833333 133.05833333  88.46416667\n",
            " 155.61916667 122.855       95.48333333  77.69083333  88.12833333\n",
            "  99.13166667 151.71166667  90.10833333 157.4525      91.705\n",
            "  87.38666667]\n",
            "0.773713872130722\n"
          ]
        }
      ],
      "source": [
        "model_final=RandomForestRegressor(n_estimators=1200,random_state=0)\n",
        "\n",
        "model_final.fit(X_train_6, y_train_2)\n",
        "\n",
        "pred_final=model_final.predict(X_test_6)\n",
        "\n",
        "print(pred_final)\n",
        "\n",
        "\n",
        "r2_final=r2_score(y_test, pred_final)\n",
        "print(r2_final)"
      ]
    },
    {
      "attachments": {},
      "cell_type": "markdown",
      "metadata": {},
      "source": [
        "# Thank You\n",
        "\n",
        "## By : Karthik Sabareesh\n",
        "\n",
        "\n",
        "### Github: https://github.com/KarthikSabareesh"
      ]
    }
  ],
  "metadata": {
    "colab": {
      "provenance": []
    },
    "kernelspec": {
      "display_name": "Python 3",
      "name": "python3"
    },
    "language_info": {
      "name": "python"
    }
  },
  "nbformat": 4,
  "nbformat_minor": 0
}
